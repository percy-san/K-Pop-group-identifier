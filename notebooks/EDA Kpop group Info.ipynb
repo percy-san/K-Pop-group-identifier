{
 "cells": [
  {
   "metadata": {},
   "cell_type": "markdown",
   "source": "# KPOP GROUP CLASSIFIER",
   "id": "4482b86f954f46f9"
  },
  {
   "metadata": {},
   "cell_type": "markdown",
   "source": [
    "\n",
    "# Problem statement\n",
    "This projects aims to classiffy K-POP songs from BLACKPINK, TWICE and DREAMACTHER. According to the dataset features such as dancabilty energy and tembo.\n",
    "# Data Collection\n",
    "Dataset Source - Data gotten from the Spotify API using synthetic features\n",
    "Data consists of 17 columns and 150 rows"
   ],
   "id": "c7f149a565a0d279"
  },
  {
   "metadata": {},
   "cell_type": "markdown",
   "source": [
    "### 1. Import Important packages\n",
    "### Importing Pandas, Numpy, Matplotlib, Seaborn and Warnings Library."
   ],
   "id": "8b595a8289778de7"
  },
  {
   "metadata": {
    "ExecuteTime": {
     "end_time": "2025-07-18T20:26:51.169922Z",
     "start_time": "2025-07-18T20:26:50.920793Z"
    }
   },
   "cell_type": "code",
   "source": [
    "import numpy as np\n",
    "import pandas as pd\n",
    "import matplotlib.pyplot as plt\n",
    "%matplotlib inline\n",
    "import seaborn as sns\n",
    "import plotly.express as px\n",
    "import plotly.graph_objects as go\n",
    "from plotly.subplots import make_subplots\n",
    "import warnings\n",
    "warnings.filterwarnings('ignore')"
   ],
   "id": "46a33c91fa3670b5",
   "outputs": [],
   "execution_count": 98
  },
  {
   "metadata": {},
   "cell_type": "markdown",
   "source": "#### Import the CSV Data as Pandas DataFrame",
   "id": "b4d532085700600c"
  },
  {
   "cell_type": "code",
   "id": "initial_id",
   "metadata": {
    "collapsed": true,
    "ExecuteTime": {
     "end_time": "2025-07-18T18:18:09.246467Z",
     "start_time": "2025-07-18T18:18:09.159445Z"
    }
   },
   "source": [
    "df = pd.read_csv('../data/raw/raw_data.csv')\n",
    "df.head()"
   ],
   "outputs": [
    {
     "data": {
      "text/plain": [
       "                                          track_name artist  \\\n",
       "0             TAKEDOWN (JEONGYEON, JIHYO, CHAEYOUNG)  TWICE   \n",
       "1                                           Strategy  TWICE   \n",
       "2                                        THIS IS FOR  TWICE   \n",
       "3               Strategy (feat. Megan Thee Stallion)  TWICE   \n",
       "4  Strategy (from the Netflix film KPop Demon Hun...  TWICE   \n",
       "\n",
       "                                               album release_date  popularity  \\\n",
       "0  KPop Demon Hunters (Soundtrack from the Netfli...   2025-06-20          91   \n",
       "1  KPop Demon Hunters (Soundtrack from the Netfli...   2025-06-20          87   \n",
       "2                                        THIS IS FOR   2025-07-11          83   \n",
       "3                                           STRATEGY   2024-12-06          77   \n",
       "4                                           STRATEGY   2024-12-06          78   \n",
       "\n",
       "   duration_ms  explicit                track_id  danceability    energy  \\\n",
       "0       181192     False  1rKQjUhF9zFJmuUotr3VkV      0.749671  0.786174   \n",
       "1       168645     False  6Q3lFQgpvhA9VApFKLFZtZ      0.547612  0.709198   \n",
       "2       131097     False  3598iBWrS4JhJqP5tHlpVK      0.698650  0.694229   \n",
       "3       201760     False  5zQUndaoBtXJ10SsApqtvw      0.713443  0.732308   \n",
       "4       166773     False  22fSzde77hjB052Vo155LF      0.736140  0.953804   \n",
       "\n",
       "    valence       tempo  loudness  speechiness  acousticness  \\\n",
       "0  0.964769  143.230299 -4.734153     0.140366      0.486905   \n",
       "1  0.758770  142.656488 -4.725776     0.287058      0.094776   \n",
       "2  0.982254  115.791564 -4.291136     0.023671      0.523357   \n",
       "3  0.961168  138.309995 -3.568720     0.104808      0.207734   \n",
       "4  0.896417  143.646437 -7.119745     0.404479      0.485917   \n",
       "\n",
       "   instrumentalness  liveness  \n",
       "0          0.047898  0.047665  \n",
       "1          0.324487  0.089232  \n",
       "2          0.269160  0.054279  \n",
       "3          0.103212  0.013136  \n",
       "4          0.049693  0.032368  "
      ],
      "text/html": [
       "<div>\n",
       "<style scoped>\n",
       "    .dataframe tbody tr th:only-of-type {\n",
       "        vertical-align: middle;\n",
       "    }\n",
       "\n",
       "    .dataframe tbody tr th {\n",
       "        vertical-align: top;\n",
       "    }\n",
       "\n",
       "    .dataframe thead th {\n",
       "        text-align: right;\n",
       "    }\n",
       "</style>\n",
       "<table border=\"1\" class=\"dataframe\">\n",
       "  <thead>\n",
       "    <tr style=\"text-align: right;\">\n",
       "      <th></th>\n",
       "      <th>track_name</th>\n",
       "      <th>artist</th>\n",
       "      <th>album</th>\n",
       "      <th>release_date</th>\n",
       "      <th>popularity</th>\n",
       "      <th>duration_ms</th>\n",
       "      <th>explicit</th>\n",
       "      <th>track_id</th>\n",
       "      <th>danceability</th>\n",
       "      <th>energy</th>\n",
       "      <th>valence</th>\n",
       "      <th>tempo</th>\n",
       "      <th>loudness</th>\n",
       "      <th>speechiness</th>\n",
       "      <th>acousticness</th>\n",
       "      <th>instrumentalness</th>\n",
       "      <th>liveness</th>\n",
       "    </tr>\n",
       "  </thead>\n",
       "  <tbody>\n",
       "    <tr>\n",
       "      <th>0</th>\n",
       "      <td>TAKEDOWN (JEONGYEON, JIHYO, CHAEYOUNG)</td>\n",
       "      <td>TWICE</td>\n",
       "      <td>KPop Demon Hunters (Soundtrack from the Netfli...</td>\n",
       "      <td>2025-06-20</td>\n",
       "      <td>91</td>\n",
       "      <td>181192</td>\n",
       "      <td>False</td>\n",
       "      <td>1rKQjUhF9zFJmuUotr3VkV</td>\n",
       "      <td>0.749671</td>\n",
       "      <td>0.786174</td>\n",
       "      <td>0.964769</td>\n",
       "      <td>143.230299</td>\n",
       "      <td>-4.734153</td>\n",
       "      <td>0.140366</td>\n",
       "      <td>0.486905</td>\n",
       "      <td>0.047898</td>\n",
       "      <td>0.047665</td>\n",
       "    </tr>\n",
       "    <tr>\n",
       "      <th>1</th>\n",
       "      <td>Strategy</td>\n",
       "      <td>TWICE</td>\n",
       "      <td>KPop Demon Hunters (Soundtrack from the Netfli...</td>\n",
       "      <td>2025-06-20</td>\n",
       "      <td>87</td>\n",
       "      <td>168645</td>\n",
       "      <td>False</td>\n",
       "      <td>6Q3lFQgpvhA9VApFKLFZtZ</td>\n",
       "      <td>0.547612</td>\n",
       "      <td>0.709198</td>\n",
       "      <td>0.758770</td>\n",
       "      <td>142.656488</td>\n",
       "      <td>-4.725776</td>\n",
       "      <td>0.287058</td>\n",
       "      <td>0.094776</td>\n",
       "      <td>0.324487</td>\n",
       "      <td>0.089232</td>\n",
       "    </tr>\n",
       "    <tr>\n",
       "      <th>2</th>\n",
       "      <td>THIS IS FOR</td>\n",
       "      <td>TWICE</td>\n",
       "      <td>THIS IS FOR</td>\n",
       "      <td>2025-07-11</td>\n",
       "      <td>83</td>\n",
       "      <td>131097</td>\n",
       "      <td>False</td>\n",
       "      <td>3598iBWrS4JhJqP5tHlpVK</td>\n",
       "      <td>0.698650</td>\n",
       "      <td>0.694229</td>\n",
       "      <td>0.982254</td>\n",
       "      <td>115.791564</td>\n",
       "      <td>-4.291136</td>\n",
       "      <td>0.023671</td>\n",
       "      <td>0.523357</td>\n",
       "      <td>0.269160</td>\n",
       "      <td>0.054279</td>\n",
       "    </tr>\n",
       "    <tr>\n",
       "      <th>3</th>\n",
       "      <td>Strategy (feat. Megan Thee Stallion)</td>\n",
       "      <td>TWICE</td>\n",
       "      <td>STRATEGY</td>\n",
       "      <td>2024-12-06</td>\n",
       "      <td>77</td>\n",
       "      <td>201760</td>\n",
       "      <td>False</td>\n",
       "      <td>5zQUndaoBtXJ10SsApqtvw</td>\n",
       "      <td>0.713443</td>\n",
       "      <td>0.732308</td>\n",
       "      <td>0.961168</td>\n",
       "      <td>138.309995</td>\n",
       "      <td>-3.568720</td>\n",
       "      <td>0.104808</td>\n",
       "      <td>0.207734</td>\n",
       "      <td>0.103212</td>\n",
       "      <td>0.013136</td>\n",
       "    </tr>\n",
       "    <tr>\n",
       "      <th>4</th>\n",
       "      <td>Strategy (from the Netflix film KPop Demon Hun...</td>\n",
       "      <td>TWICE</td>\n",
       "      <td>STRATEGY</td>\n",
       "      <td>2024-12-06</td>\n",
       "      <td>78</td>\n",
       "      <td>166773</td>\n",
       "      <td>False</td>\n",
       "      <td>22fSzde77hjB052Vo155LF</td>\n",
       "      <td>0.736140</td>\n",
       "      <td>0.953804</td>\n",
       "      <td>0.896417</td>\n",
       "      <td>143.646437</td>\n",
       "      <td>-7.119745</td>\n",
       "      <td>0.404479</td>\n",
       "      <td>0.485917</td>\n",
       "      <td>0.049693</td>\n",
       "      <td>0.032368</td>\n",
       "    </tr>\n",
       "  </tbody>\n",
       "</table>\n",
       "</div>"
      ]
     },
     "execution_count": 16,
     "metadata": {},
     "output_type": "execute_result"
    }
   ],
   "execution_count": 16
  },
  {
   "metadata": {},
   "cell_type": "markdown",
   "source": "### Data shape",
   "id": "8e6666b78f060c2a"
  },
  {
   "metadata": {
    "ExecuteTime": {
     "end_time": "2025-07-18T18:19:04.003898Z",
     "start_time": "2025-07-18T18:19:03.989410Z"
    }
   },
   "cell_type": "code",
   "source": "df.shape",
   "id": "d963ad1240a7b68c",
   "outputs": [
    {
     "data": {
      "text/plain": [
       "(150, 17)"
      ]
     },
     "execution_count": 18,
     "metadata": {},
     "output_type": "execute_result"
    }
   ],
   "execution_count": 18
  },
  {
   "metadata": {},
   "cell_type": "markdown",
   "source": [
    "# Dataset information\n",
    "- track_name\n",
    "- artist\n",
    "- album\n",
    "- release_date\n",
    "- popularity\n",
    "- duration_ms\n",
    "- explicit\n",
    "- track_id\n",
    "- dancabilty\n",
    "- energy\n",
    "- valance\n",
    "- tempo\n",
    "- loudness\n",
    "- speechiness\n",
    "- acousticness\n",
    "- instrumentalness\n",
    "- liveness"
   ],
   "id": "ace977e60f9950cb"
  },
  {
   "metadata": {},
   "cell_type": "markdown",
   "source": [
    "# 3) Data checks to perform\n",
    "- Check Missing values\n",
    "- Check Duplicates\n",
    "- Check data type\n",
    "- Check the number of unique values of each column\n",
    "- Check statistics of data set\n",
    "- Check various categories present in the different categorical column"
   ],
   "id": "e496bb54da6e057a"
  },
  {
   "metadata": {
    "ExecuteTime": {
     "end_time": "2025-07-18T18:25:23.122387Z",
     "start_time": "2025-07-18T18:25:22.676918Z"
    }
   },
   "cell_type": "code",
   "source": [
    "#Missing values\n",
    "df.isnull().sum()"
   ],
   "id": "2968db4305bad4a2",
   "outputs": [
    {
     "data": {
      "text/plain": [
       "track_name          0\n",
       "artist              0\n",
       "album               0\n",
       "release_date        0\n",
       "popularity          0\n",
       "duration_ms         0\n",
       "explicit            0\n",
       "track_id            0\n",
       "danceability        0\n",
       "energy              0\n",
       "valence             0\n",
       "tempo               0\n",
       "loudness            0\n",
       "speechiness         0\n",
       "acousticness        0\n",
       "instrumentalness    0\n",
       "liveness            0\n",
       "dtype: int64"
      ]
     },
     "execution_count": 19,
     "metadata": {},
     "output_type": "execute_result"
    }
   ],
   "execution_count": 19
  },
  {
   "metadata": {
    "ExecuteTime": {
     "end_time": "2025-07-18T18:25:58.223719Z",
     "start_time": "2025-07-18T18:25:58.192649Z"
    }
   },
   "cell_type": "code",
   "source": "df.duplicated().sum()",
   "id": "df3a2c845cb9a647",
   "outputs": [
    {
     "data": {
      "text/plain": [
       "np.int64(0)"
      ]
     },
     "execution_count": 21,
     "metadata": {},
     "output_type": "execute_result"
    }
   ],
   "execution_count": 21
  },
  {
   "metadata": {},
   "cell_type": "markdown",
   "source": "### Data has no duplicates in it",
   "id": "ee6d49a66e4d97fe"
  },
  {
   "metadata": {
    "ExecuteTime": {
     "end_time": "2025-07-18T18:28:00.891907Z",
     "start_time": "2025-07-18T18:28:00.725955Z"
    }
   },
   "cell_type": "code",
   "source": [
    "# Checking data types\n",
    "df.info()"
   ],
   "id": "648def170ca26304",
   "outputs": [
    {
     "name": "stdout",
     "output_type": "stream",
     "text": [
      "<class 'pandas.core.frame.DataFrame'>\n",
      "RangeIndex: 150 entries, 0 to 149\n",
      "Data columns (total 17 columns):\n",
      " #   Column            Non-Null Count  Dtype  \n",
      "---  ------            --------------  -----  \n",
      " 0   track_name        150 non-null    object \n",
      " 1   artist            150 non-null    object \n",
      " 2   album             150 non-null    object \n",
      " 3   release_date      150 non-null    object \n",
      " 4   popularity        150 non-null    int64  \n",
      " 5   duration_ms       150 non-null    int64  \n",
      " 6   explicit          150 non-null    bool   \n",
      " 7   track_id          150 non-null    object \n",
      " 8   danceability      150 non-null    float64\n",
      " 9   energy            150 non-null    float64\n",
      " 10  valence           150 non-null    float64\n",
      " 11  tempo             150 non-null    float64\n",
      " 12  loudness          150 non-null    float64\n",
      " 13  speechiness       150 non-null    float64\n",
      " 14  acousticness      150 non-null    float64\n",
      " 15  instrumentalness  150 non-null    float64\n",
      " 16  liveness          150 non-null    float64\n",
      "dtypes: bool(1), float64(9), int64(2), object(5)\n",
      "memory usage: 19.0+ KB\n"
     ]
    }
   ],
   "execution_count": 23
  },
  {
   "metadata": {
    "ExecuteTime": {
     "end_time": "2025-07-18T18:31:59.308725Z",
     "start_time": "2025-07-18T18:31:59.144312Z"
    }
   },
   "cell_type": "code",
   "source": [
    "# Check number of unique Values of each column\n",
    "df.nunique()"
   ],
   "id": "5a2c8c6df2f4d29a",
   "outputs": [
    {
     "data": {
      "text/plain": [
       "track_name          127\n",
       "artist                3\n",
       "album                56\n",
       "release_date         56\n",
       "popularity           44\n",
       "duration_ms         128\n",
       "explicit              2\n",
       "track_id            150\n",
       "danceability        149\n",
       "energy              136\n",
       "valence             143\n",
       "tempo               150\n",
       "loudness            150\n",
       "speechiness         150\n",
       "acousticness        150\n",
       "instrumentalness    150\n",
       "liveness            150\n",
       "dtype: int64"
      ]
     },
     "execution_count": 25,
     "metadata": {},
     "output_type": "execute_result"
    }
   ],
   "execution_count": 25
  },
  {
   "metadata": {
    "ExecuteTime": {
     "end_time": "2025-07-18T18:32:42.102229Z",
     "start_time": "2025-07-18T18:32:42.000769Z"
    }
   },
   "cell_type": "code",
   "source": [
    "# check data statistics\n",
    "df.describe()"
   ],
   "id": "972f29ec1445d619",
   "outputs": [
    {
     "data": {
      "text/plain": [
       "       popularity    duration_ms  danceability      energy     valence  \\\n",
       "count  150.000000     150.000000    150.000000  150.000000  150.000000   \n",
       "mean    59.073333  189100.646667      0.693381    0.851605    0.696288   \n",
       "std     13.404445   28037.064732      0.134216    0.104959    0.174608   \n",
       "min     38.000000  105800.000000      0.344163    0.549724    0.351372   \n",
       "25%     48.000000  175889.000000      0.596812    0.774912    0.542004   \n",
       "50%     58.500000  191040.000000      0.693013    0.866508    0.682654   \n",
       "75%     70.000000  208699.750000      0.785136    0.938522    0.827617   \n",
       "max     93.000000  251933.000000      1.000000    1.000000    1.000000   \n",
       "\n",
       "            tempo    loudness  speechiness  acousticness  instrumentalness  \\\n",
       "count  150.000000  150.000000   150.000000    150.000000        150.000000   \n",
       "mean   133.986921   -4.078783     0.198804      0.301321          0.088534   \n",
       "std     10.649362    1.128828     0.125487      0.159398          0.076134   \n",
       "min    101.031134   -7.159351     0.018280      0.014682          0.000255   \n",
       "25%    127.210767   -4.706531     0.104671      0.186771          0.027331   \n",
       "50%    133.898020   -3.984687     0.181555      0.281290          0.067608   \n",
       "75%    141.826005   -3.320921     0.272579      0.389444          0.127478   \n",
       "max    161.052024   -1.389864     0.578322      0.774999          0.327559   \n",
       "\n",
       "         liveness  \n",
       "count  150.000000  \n",
       "mean     0.098469  \n",
       "std      0.087065  \n",
       "min      0.000114  \n",
       "25%      0.034150  \n",
       "50%      0.070485  \n",
       "75%      0.143615  \n",
       "max      0.392878  "
      ],
      "text/html": [
       "<div>\n",
       "<style scoped>\n",
       "    .dataframe tbody tr th:only-of-type {\n",
       "        vertical-align: middle;\n",
       "    }\n",
       "\n",
       "    .dataframe tbody tr th {\n",
       "        vertical-align: top;\n",
       "    }\n",
       "\n",
       "    .dataframe thead th {\n",
       "        text-align: right;\n",
       "    }\n",
       "</style>\n",
       "<table border=\"1\" class=\"dataframe\">\n",
       "  <thead>\n",
       "    <tr style=\"text-align: right;\">\n",
       "      <th></th>\n",
       "      <th>popularity</th>\n",
       "      <th>duration_ms</th>\n",
       "      <th>danceability</th>\n",
       "      <th>energy</th>\n",
       "      <th>valence</th>\n",
       "      <th>tempo</th>\n",
       "      <th>loudness</th>\n",
       "      <th>speechiness</th>\n",
       "      <th>acousticness</th>\n",
       "      <th>instrumentalness</th>\n",
       "      <th>liveness</th>\n",
       "    </tr>\n",
       "  </thead>\n",
       "  <tbody>\n",
       "    <tr>\n",
       "      <th>count</th>\n",
       "      <td>150.000000</td>\n",
       "      <td>150.000000</td>\n",
       "      <td>150.000000</td>\n",
       "      <td>150.000000</td>\n",
       "      <td>150.000000</td>\n",
       "      <td>150.000000</td>\n",
       "      <td>150.000000</td>\n",
       "      <td>150.000000</td>\n",
       "      <td>150.000000</td>\n",
       "      <td>150.000000</td>\n",
       "      <td>150.000000</td>\n",
       "    </tr>\n",
       "    <tr>\n",
       "      <th>mean</th>\n",
       "      <td>59.073333</td>\n",
       "      <td>189100.646667</td>\n",
       "      <td>0.693381</td>\n",
       "      <td>0.851605</td>\n",
       "      <td>0.696288</td>\n",
       "      <td>133.986921</td>\n",
       "      <td>-4.078783</td>\n",
       "      <td>0.198804</td>\n",
       "      <td>0.301321</td>\n",
       "      <td>0.088534</td>\n",
       "      <td>0.098469</td>\n",
       "    </tr>\n",
       "    <tr>\n",
       "      <th>std</th>\n",
       "      <td>13.404445</td>\n",
       "      <td>28037.064732</td>\n",
       "      <td>0.134216</td>\n",
       "      <td>0.104959</td>\n",
       "      <td>0.174608</td>\n",
       "      <td>10.649362</td>\n",
       "      <td>1.128828</td>\n",
       "      <td>0.125487</td>\n",
       "      <td>0.159398</td>\n",
       "      <td>0.076134</td>\n",
       "      <td>0.087065</td>\n",
       "    </tr>\n",
       "    <tr>\n",
       "      <th>min</th>\n",
       "      <td>38.000000</td>\n",
       "      <td>105800.000000</td>\n",
       "      <td>0.344163</td>\n",
       "      <td>0.549724</td>\n",
       "      <td>0.351372</td>\n",
       "      <td>101.031134</td>\n",
       "      <td>-7.159351</td>\n",
       "      <td>0.018280</td>\n",
       "      <td>0.014682</td>\n",
       "      <td>0.000255</td>\n",
       "      <td>0.000114</td>\n",
       "    </tr>\n",
       "    <tr>\n",
       "      <th>25%</th>\n",
       "      <td>48.000000</td>\n",
       "      <td>175889.000000</td>\n",
       "      <td>0.596812</td>\n",
       "      <td>0.774912</td>\n",
       "      <td>0.542004</td>\n",
       "      <td>127.210767</td>\n",
       "      <td>-4.706531</td>\n",
       "      <td>0.104671</td>\n",
       "      <td>0.186771</td>\n",
       "      <td>0.027331</td>\n",
       "      <td>0.034150</td>\n",
       "    </tr>\n",
       "    <tr>\n",
       "      <th>50%</th>\n",
       "      <td>58.500000</td>\n",
       "      <td>191040.000000</td>\n",
       "      <td>0.693013</td>\n",
       "      <td>0.866508</td>\n",
       "      <td>0.682654</td>\n",
       "      <td>133.898020</td>\n",
       "      <td>-3.984687</td>\n",
       "      <td>0.181555</td>\n",
       "      <td>0.281290</td>\n",
       "      <td>0.067608</td>\n",
       "      <td>0.070485</td>\n",
       "    </tr>\n",
       "    <tr>\n",
       "      <th>75%</th>\n",
       "      <td>70.000000</td>\n",
       "      <td>208699.750000</td>\n",
       "      <td>0.785136</td>\n",
       "      <td>0.938522</td>\n",
       "      <td>0.827617</td>\n",
       "      <td>141.826005</td>\n",
       "      <td>-3.320921</td>\n",
       "      <td>0.272579</td>\n",
       "      <td>0.389444</td>\n",
       "      <td>0.127478</td>\n",
       "      <td>0.143615</td>\n",
       "    </tr>\n",
       "    <tr>\n",
       "      <th>max</th>\n",
       "      <td>93.000000</td>\n",
       "      <td>251933.000000</td>\n",
       "      <td>1.000000</td>\n",
       "      <td>1.000000</td>\n",
       "      <td>1.000000</td>\n",
       "      <td>161.052024</td>\n",
       "      <td>-1.389864</td>\n",
       "      <td>0.578322</td>\n",
       "      <td>0.774999</td>\n",
       "      <td>0.327559</td>\n",
       "      <td>0.392878</td>\n",
       "    </tr>\n",
       "  </tbody>\n",
       "</table>\n",
       "</div>"
      ]
     },
     "execution_count": 26,
     "metadata": {},
     "output_type": "execute_result"
    }
   ],
   "execution_count": 26
  },
  {
   "metadata": {},
   "cell_type": "markdown",
   "source": "# 4) Exploring the data",
   "id": "4f501b52f9e264fe"
  },
  {
   "metadata": {
    "ExecuteTime": {
     "end_time": "2025-07-18T18:41:34.764505Z",
     "start_time": "2025-07-18T18:41:34.680179Z"
    }
   },
   "cell_type": "code",
   "source": "df.head(5)",
   "id": "ef841f62eba73767",
   "outputs": [
    {
     "data": {
      "text/plain": [
       "                                          track_name artist  \\\n",
       "0             TAKEDOWN (JEONGYEON, JIHYO, CHAEYOUNG)  TWICE   \n",
       "1                                           Strategy  TWICE   \n",
       "2                                        THIS IS FOR  TWICE   \n",
       "3               Strategy (feat. Megan Thee Stallion)  TWICE   \n",
       "4  Strategy (from the Netflix film KPop Demon Hun...  TWICE   \n",
       "\n",
       "                                               album release_date  popularity  \\\n",
       "0  KPop Demon Hunters (Soundtrack from the Netfli...   2025-06-20          91   \n",
       "1  KPop Demon Hunters (Soundtrack from the Netfli...   2025-06-20          87   \n",
       "2                                        THIS IS FOR   2025-07-11          83   \n",
       "3                                           STRATEGY   2024-12-06          77   \n",
       "4                                           STRATEGY   2024-12-06          78   \n",
       "\n",
       "   duration_ms  explicit                track_id  danceability    energy  \\\n",
       "0       181192     False  1rKQjUhF9zFJmuUotr3VkV      0.749671  0.786174   \n",
       "1       168645     False  6Q3lFQgpvhA9VApFKLFZtZ      0.547612  0.709198   \n",
       "2       131097     False  3598iBWrS4JhJqP5tHlpVK      0.698650  0.694229   \n",
       "3       201760     False  5zQUndaoBtXJ10SsApqtvw      0.713443  0.732308   \n",
       "4       166773     False  22fSzde77hjB052Vo155LF      0.736140  0.953804   \n",
       "\n",
       "    valence       tempo  loudness  speechiness  acousticness  \\\n",
       "0  0.964769  143.230299 -4.734153     0.140366      0.486905   \n",
       "1  0.758770  142.656488 -4.725776     0.287058      0.094776   \n",
       "2  0.982254  115.791564 -4.291136     0.023671      0.523357   \n",
       "3  0.961168  138.309995 -3.568720     0.104808      0.207734   \n",
       "4  0.896417  143.646437 -7.119745     0.404479      0.485917   \n",
       "\n",
       "   instrumentalness  liveness  \n",
       "0          0.047898  0.047665  \n",
       "1          0.324487  0.089232  \n",
       "2          0.269160  0.054279  \n",
       "3          0.103212  0.013136  \n",
       "4          0.049693  0.032368  "
      ],
      "text/html": [
       "<div>\n",
       "<style scoped>\n",
       "    .dataframe tbody tr th:only-of-type {\n",
       "        vertical-align: middle;\n",
       "    }\n",
       "\n",
       "    .dataframe tbody tr th {\n",
       "        vertical-align: top;\n",
       "    }\n",
       "\n",
       "    .dataframe thead th {\n",
       "        text-align: right;\n",
       "    }\n",
       "</style>\n",
       "<table border=\"1\" class=\"dataframe\">\n",
       "  <thead>\n",
       "    <tr style=\"text-align: right;\">\n",
       "      <th></th>\n",
       "      <th>track_name</th>\n",
       "      <th>artist</th>\n",
       "      <th>album</th>\n",
       "      <th>release_date</th>\n",
       "      <th>popularity</th>\n",
       "      <th>duration_ms</th>\n",
       "      <th>explicit</th>\n",
       "      <th>track_id</th>\n",
       "      <th>danceability</th>\n",
       "      <th>energy</th>\n",
       "      <th>valence</th>\n",
       "      <th>tempo</th>\n",
       "      <th>loudness</th>\n",
       "      <th>speechiness</th>\n",
       "      <th>acousticness</th>\n",
       "      <th>instrumentalness</th>\n",
       "      <th>liveness</th>\n",
       "    </tr>\n",
       "  </thead>\n",
       "  <tbody>\n",
       "    <tr>\n",
       "      <th>0</th>\n",
       "      <td>TAKEDOWN (JEONGYEON, JIHYO, CHAEYOUNG)</td>\n",
       "      <td>TWICE</td>\n",
       "      <td>KPop Demon Hunters (Soundtrack from the Netfli...</td>\n",
       "      <td>2025-06-20</td>\n",
       "      <td>91</td>\n",
       "      <td>181192</td>\n",
       "      <td>False</td>\n",
       "      <td>1rKQjUhF9zFJmuUotr3VkV</td>\n",
       "      <td>0.749671</td>\n",
       "      <td>0.786174</td>\n",
       "      <td>0.964769</td>\n",
       "      <td>143.230299</td>\n",
       "      <td>-4.734153</td>\n",
       "      <td>0.140366</td>\n",
       "      <td>0.486905</td>\n",
       "      <td>0.047898</td>\n",
       "      <td>0.047665</td>\n",
       "    </tr>\n",
       "    <tr>\n",
       "      <th>1</th>\n",
       "      <td>Strategy</td>\n",
       "      <td>TWICE</td>\n",
       "      <td>KPop Demon Hunters (Soundtrack from the Netfli...</td>\n",
       "      <td>2025-06-20</td>\n",
       "      <td>87</td>\n",
       "      <td>168645</td>\n",
       "      <td>False</td>\n",
       "      <td>6Q3lFQgpvhA9VApFKLFZtZ</td>\n",
       "      <td>0.547612</td>\n",
       "      <td>0.709198</td>\n",
       "      <td>0.758770</td>\n",
       "      <td>142.656488</td>\n",
       "      <td>-4.725776</td>\n",
       "      <td>0.287058</td>\n",
       "      <td>0.094776</td>\n",
       "      <td>0.324487</td>\n",
       "      <td>0.089232</td>\n",
       "    </tr>\n",
       "    <tr>\n",
       "      <th>2</th>\n",
       "      <td>THIS IS FOR</td>\n",
       "      <td>TWICE</td>\n",
       "      <td>THIS IS FOR</td>\n",
       "      <td>2025-07-11</td>\n",
       "      <td>83</td>\n",
       "      <td>131097</td>\n",
       "      <td>False</td>\n",
       "      <td>3598iBWrS4JhJqP5tHlpVK</td>\n",
       "      <td>0.698650</td>\n",
       "      <td>0.694229</td>\n",
       "      <td>0.982254</td>\n",
       "      <td>115.791564</td>\n",
       "      <td>-4.291136</td>\n",
       "      <td>0.023671</td>\n",
       "      <td>0.523357</td>\n",
       "      <td>0.269160</td>\n",
       "      <td>0.054279</td>\n",
       "    </tr>\n",
       "    <tr>\n",
       "      <th>3</th>\n",
       "      <td>Strategy (feat. Megan Thee Stallion)</td>\n",
       "      <td>TWICE</td>\n",
       "      <td>STRATEGY</td>\n",
       "      <td>2024-12-06</td>\n",
       "      <td>77</td>\n",
       "      <td>201760</td>\n",
       "      <td>False</td>\n",
       "      <td>5zQUndaoBtXJ10SsApqtvw</td>\n",
       "      <td>0.713443</td>\n",
       "      <td>0.732308</td>\n",
       "      <td>0.961168</td>\n",
       "      <td>138.309995</td>\n",
       "      <td>-3.568720</td>\n",
       "      <td>0.104808</td>\n",
       "      <td>0.207734</td>\n",
       "      <td>0.103212</td>\n",
       "      <td>0.013136</td>\n",
       "    </tr>\n",
       "    <tr>\n",
       "      <th>4</th>\n",
       "      <td>Strategy (from the Netflix film KPop Demon Hun...</td>\n",
       "      <td>TWICE</td>\n",
       "      <td>STRATEGY</td>\n",
       "      <td>2024-12-06</td>\n",
       "      <td>78</td>\n",
       "      <td>166773</td>\n",
       "      <td>False</td>\n",
       "      <td>22fSzde77hjB052Vo155LF</td>\n",
       "      <td>0.736140</td>\n",
       "      <td>0.953804</td>\n",
       "      <td>0.896417</td>\n",
       "      <td>143.646437</td>\n",
       "      <td>-7.119745</td>\n",
       "      <td>0.404479</td>\n",
       "      <td>0.485917</td>\n",
       "      <td>0.049693</td>\n",
       "      <td>0.032368</td>\n",
       "    </tr>\n",
       "  </tbody>\n",
       "</table>\n",
       "</div>"
      ]
     },
     "execution_count": 40,
     "metadata": {},
     "output_type": "execute_result"
    }
   ],
   "execution_count": 40
  },
  {
   "metadata": {
    "ExecuteTime": {
     "end_time": "2025-07-18T20:13:45.928572Z",
     "start_time": "2025-07-18T20:13:45.886200Z"
    }
   },
   "cell_type": "code",
   "source": [
    "# What are the artists we have\n",
    "print(\"What are the artists we have: \",end=\" \")\n",
    "print(df['artist'].unique())\n",
    "print(\" \")\n",
    "\n",
    "\n",
    "# List of albums\n",
    "print(\"How many albums do we have: \", end=\" \")\n",
    "print(df['album'].count(),'Albums')\n",
    "print(\" \")\n",
    "\n",
    "# What is te most popular group\n",
    "artist_popularity = df.groupby('artist')['popularity'].mean().reset_index()\n",
    "\n",
    "print(\"Most popular artist:\",)\n",
    "most_popular_artist = artist_popularity.loc[artist_popularity['popularity'].idxmax()]\n",
    "print(f\"'{most_popular_artist['artist']}' with a popularity of {most_popular_artist['popularity']:.0f}\")\n",
    "print(\" \")\n",
    "\n",
    "\n",
    "# What is the least popular group\n",
    "print(\"Least Popular artist:\")\n",
    "least_popular_artist = artist_popularity.loc[artist_popularity['popularity'].idxmin()]\n",
    "print(f\"'{least_popular_artist['artist']}' with a popularity of {least_popular_artist['popularity']:.0f}\")\n",
    "print(\" \")\n",
    "\n",
    "# Most Popular song\n",
    "print(\"Most Popular song:\")\n",
    "most_popular_song = df.loc[df['popularity'].idxmax(), ['track_name', 'artist', 'popularity']]\n",
    "print(f\"'{most_popular_song['track_name']}' by {most_popular_song['artist']} with a popularity of {most_popular_song['popularity']:.0f}\")\n",
    "print(\" \")\n",
    "\n",
    "# Count unique albums per artist\n",
    "print(\"Albums per artist:\")\n",
    "albums_per_artist = df.groupby('artist')['album'].nunique()\n",
    "print(albums_per_artist)\n",
    "print(\" \")\n",
    "\n",
    "#Albums per artist\n",
    "print(\"These are the albums per artist:\")\n",
    "for artist, albums in df.groupby('artist')['album'].unique().items():\n",
    "    print(f\"{artist}:\")\n",
    "    for album in albums:\n",
    "        print(f\"  - {album}\")\n",
    "    print()\n",
    "\n"
   ],
   "id": "c4a757326b98af0c",
   "outputs": [
    {
     "name": "stdout",
     "output_type": "stream",
     "text": [
      "What are the artists we have:  ['TWICE' 'BLACKPINK' 'Dreamcatcher']\n",
      " \n",
      "How many albums do we have:  150 Albums\n",
      " \n",
      "Most popular artist:\n",
      "'TWICE' with a popularity of 66\n",
      " \n",
      "Least Popular artist:\n",
      "'Dreamcatcher' with a popularity of 45\n",
      " \n",
      "Most Popular song:\n",
      "'JUMP' by BLACKPINK with a popularity of 93\n",
      " \n",
      "Albums per artist:\n",
      "artist\n",
      "BLACKPINK       19\n",
      "Dreamcatcher    19\n",
      "TWICE           18\n",
      "Name: album, dtype: int64\n",
      " \n",
      "These are the albums per artist:\n",
      "BLACKPINK:\n",
      "  - JUMP\n",
      "  - THE ALBUM\n",
      "  - KILL THIS LOVE\n",
      "  - BORN PINK\n",
      "  - SQUARE UP\n",
      "  - SQUARE ONE\n",
      "  - As If It's Your Last\n",
      "  - Dua Lipa (Complete Edition)\n",
      "  - SQUARE TWO\n",
      "  - Pink Venom\n",
      "  - Ice Cream (with Selena Gomez)\n",
      "  - THE GIRLS (BLACKPINK THE GAME OST)\n",
      "  - Chromatica\n",
      "  - Sour Candy (with BLACKPINK)\n",
      "  - BLACKPINK IN YOUR AREA (Japanese Version)\n",
      "  - BLACKPINK ARENA TOUR 2018 \"SPECIAL FINAL IN KYOCERA DOME OSAKA\"\n",
      "  - Dawn Of Chromatica\n",
      "  - BLACKPINK 2018 TOUR 'IN YOUR AREA' SEOUL (Live)\n",
      "  - DDU-DU DDU-DU\n",
      "\n",
      "Dreamcatcher:\n",
      "  - [Dystopia : Lose Myself]\n",
      "  - 1st Album [Dystopia : The Tree of Language]\n",
      "  - [VirtuouS]\n",
      "  - [Summer Holiday]\n",
      "  - [Apocalypse : From us]\n",
      "  - Raid of Dream\n",
      "  - [Dystopia : Road to Utopia]\n",
      "  - [Apocalypse : Save us]\n",
      "  - [Apocalypse : Follow us]\n",
      "  - The End of Nightmare\n",
      "  - Nightmare - Escape The ERA\n",
      "  - [VillainS]\n",
      "  - 악몽\n",
      "  - 악몽·Fall asleep in the mirror\n",
      "  - Dreamcatcher\n",
      "  - [REASON]\n",
      "  - Prequel\n",
      "  - Alone In The City\n",
      "  - Eclipse\n",
      "\n",
      "TWICE:\n",
      "  - KPop Demon Hunters (Soundtrack from the Netflix Film)\n",
      "  - THIS IS FOR\n",
      "  - STRATEGY\n",
      "  - FANCY YOU\n",
      "  - Summer Nights\n",
      "  - Formula of Love: O+T=<3\n",
      "  - Eyes Wide Open\n",
      "  - Feel Special\n",
      "  - BETWEEN 1&2\n",
      "  - THIS IS FOR (DELUXE)\n",
      "  - Taste of Love\n",
      "  - YES or YES\n",
      "  - Twicetagram\n",
      "  - PAGE TWO\n",
      "  - CRY FOR ME\n",
      "  - Twicecoaster: Lane 1\n",
      "  - WE PRAY (TWICE Version)\n",
      "  - With YOU-th\n",
      "\n"
     ]
    }
   ],
   "execution_count": 94
  },
  {
   "metadata": {},
   "cell_type": "markdown",
   "source": "# 5) Data visualization\n",
   "id": "9f876ba90eea9fb3"
  },
  {
   "metadata": {},
   "cell_type": "markdown",
   "source": "Below is code for the popularity distribution visualization. the purpose is to compare the average popularity across artists and show the distribution of popularity scores.",
   "id": "9f9c55f36ef6f1e4"
  },
  {
   "metadata": {
    "ExecuteTime": {
     "end_time": "2025-07-18T19:48:00.886339Z",
     "start_time": "2025-07-18T19:47:58.777527Z"
    }
   },
   "cell_type": "code",
   "source": [
    "# Calculate mean popularity by artist\n",
    "artist_popularity = df.groupby('artist')['popularity'].mean().reset_index()\n",
    "\n",
    "# Set seaborn style for better aesthetics\n",
    "sns.set_style(\"whitegrid\")\n",
    "\n",
    "# Create a figure with two subplots\n",
    "fig, (ax1, ax2) = plt.subplots(1, 2, figsize=(14, 6))\n",
    "\n",
    "# Bar plot for average popularity by artist\n",
    "sns.barplot(data=artist_popularity, x='artist', y='popularity', ax=ax1, palette='viridis')\n",
    "ax1.set_title('Average Popularity by Artist', fontsize=14)\n",
    "ax1.set_xlabel('Artist', fontsize=12)\n",
    "ax1.set_ylabel('Average Popularity', fontsize=12)\n",
    "ax1.tick_params(axis='x', rotation=45)\n",
    "\n",
    "# Box plot for popularity distribution by artist\n",
    "sns.boxplot(data=df, x='artist', y='popularity', ax=ax2, palette='viridis')\n",
    "ax2.set_title('Popularity Distribution by Artist', fontsize=14)\n",
    "ax2.set_xlabel('Artist', fontsize=12)\n",
    "ax2.set_ylabel('Popularity', fontsize=12)\n",
    "ax2.tick_params(axis='x', rotation=45)\n",
    "\n",
    "# Adjust layout to prevent overlap\n",
    "plt.tight_layout()\n",
    "\n",
    "# Show the plots\n",
    "plt.show()"
   ],
   "id": "58b881a6f87c3702",
   "outputs": [
    {
     "data": {
      "text/plain": [
       "<Figure size 1400x600 with 2 Axes>"
      ],
      "image/png": "[encoded data removed]"
     },
     "metadata": {},
     "output_type": "display_data"
    }
   ],
   "execution_count": 81
  },
  {
   "metadata": {},
   "cell_type": "markdown",
   "source": [
    "### Insights from the popularity distribution\n",
    "- Twice has the largest popularity showing that they have strong market appeal.\n",
    "- Dreamcatcher has the lowest popularity which can be due to their niche type of music.\n"
   ],
   "id": "27c9128f6ca50eb8"
  },
  {
   "metadata": {},
   "cell_type": "markdown",
   "source": "",
   "id": "e2ac2f215018874b"
  },
  {
   "metadata": {},
   "cell_type": "markdown",
   "source": "The code below is to show the trend of average track popularity over time by release year for each artist.",
   "id": "2021835837367e11"
  },
  {
   "metadata": {
    "ExecuteTime": {
     "end_time": "2025-07-18T20:22:08.520140Z",
     "start_time": "2025-07-18T20:21:58.402157Z"
    }
   },
   "cell_type": "code",
   "source": [
    "# Parse release_date to extract year\n",
    "df['year'] = pd.to_datetime(df['release_date'], errors='coerce').dt.year\n",
    "\n",
    "# Remove rows with invalid years (if any)\n",
    "df = df.dropna(subset=['year'])\n",
    "df['year'] = df['year'].astype(int)\n",
    "\n",
    "# Group by artist and year, calculate mean popularity\n",
    "trend_data = df.groupby(['artist', 'year'])['popularity'].mean().reset_index()\n",
    "\n",
    "# Create line plot with Plotly\n",
    "fig = px.line(\n",
    "    trend_data,\n",
    "    x='year',\n",
    "    y='popularity',\n",
    "    color='artist',\n",
    "    title='Popularity Trends Over Time by Artist',\n",
    "    labels={'year': 'Release Year', 'popularity': 'Average Popularity'},\n",
    "    markers=True\n",
    ")\n",
    "\n",
    "# Customize layout\n",
    "fig.update_layout(\n",
    "    xaxis_title='Release Year',\n",
    "    yaxis_title='Average Popularity',\n",
    "    legend_title='Artist',\n",
    "    font=dict(size=12),\n",
    "    xaxis=dict(tickmode='linear', dtick=1),  # Ensure integer years\n",
    "    showlegend=True\n",
    ")\n",
    "\n",
    "# Show the plot\n",
    "fig.show()"
   ],
   "id": "d7d2904250e1a0f3",
   "outputs": [
    {
     "data": {
      "application/vnd.plotly.v1+json": {
       "data": [
        {
         "hovertemplate": "artist=BLACKPINK<br>Release Year=%{x}<br>Average Popularity=%{y}<extra></extra>",
         "legendgroup": "BLACKPINK",
         "line": {
          "color": "#636efa",
          "dash": "solid"
         },
         "marker": {
          "symbol": "circle"
         },
         "mode": "lines+markers",
         "name": "BLACKPINK",
         "orientation": "v",
         "showlegend": true,
         "x": {
          "dtype": "i2",
          "bdata": "4AfhB+IH4wfkB+UH5gfnB+kH"
         },
         "xaxis": "x",
         "y": {
          "dtype": "f8",
          "bdata": "MzMzMzPzUUAAAAAAAABUQAAAAAAA8E9AAAAAAABQTkDpoosuuihRQAAAAAAAgEZASZIkSZIkUEAAAAAAAIBQQAAAAAAAQFdA"
         },
         "yaxis": "y",
         "type": "scatter"
        },
        {
         "hovertemplate": "artist=Dreamcatcher<br>Release Year=%{x}<br>Average Popularity=%{y}<extra></extra>",
         "legendgroup": "Dreamcatcher",
         "line": {
          "color": "#EF553B",
          "dash": "solid"
         },
         "marker": {
          "symbol": "circle"
         },
         "mode": "lines+markers",
         "name": "Dreamcatcher",
         "orientation": "v",
         "showlegend": true,
         "x": {
          "dtype": "i2",
          "bdata": "zQfhB+IH4wfkB+UH5gfnB+gH"
         },
         "xaxis": "x",
         "y": {
          "dtype": "f8",
          "bdata": "AAAAAAAASUAAAAAAAKBGQFVVVVVV1UVAAAAAAADgR0AAAAAAAABHQAAAAAAAIEZAAAAAAADQRUAlSZIkSZJGQAAAAAAAYEZA"
         },
         "yaxis": "y",
         "type": "scatter"
        },
        {
         "hovertemplate": "artist=TWICE<br>Release Year=%{x}<br>Average Popularity=%{y}<extra></extra>",
         "legendgroup": "TWICE",
         "line": {
          "color": "#00cc96",
          "dash": "solid"
         },
         "marker": {
          "symbol": "circle"
         },
         "mode": "lines+markers",
         "name": "TWICE",
         "orientation": "v",
         "showlegend": true,
         "x": {
          "dtype": "i2",
          "bdata": "4AfhB+IH4wfkB+UH5gfoB+kH"
         },
         "xaxis": "x",
         "y": {
          "dtype": "f8",
          "bdata": "AAAAAADAUUAAAAAAACBRQKuqqqqqalJAAAAAAADgUkAAAAAAACBSQAAAAAAAAFJAAAAAAABAUkBVVVVVVZVSQF100UUXXU9A"
         },
         "yaxis": "y",
         "type": "scatter"
        }
       ],
       "layout": {
        "template": {
         "data": {
          "histogram2dcontour": [
           {
            "type": "histogram2dcontour",
            "colorbar": {
             "outlinewidth": 0,
             "ticks": ""
            },
            "colorscale": [
             [
              0.0,
              "#0d0887"
             ],
             [
              0.1111111111111111,
              "#46039f"
             ],
             [
              0.2222222222222222,
              "#7201a8"
             ],
             [
              0.3333333333333333,
              "#9c179e"
             ],
             [
              0.4444444444444444,
              "#bd3786"
             ],
             [
              0.5555555555555556,
              "#d8576b"
             ],
             [
              0.6666666666666666,
              "#ed7953"
             ],
             [
              0.7777777777777778,
              "#fb9f3a"
             ],
             [
              0.8888888888888888,
              "#fdca26"
             ],
             [
              1.0,
              "#f0f921"
             ]
            ]
           }
          ],
          "choropleth": [
           {
            "type": "choropleth",
            "colorbar": {
             "outlinewidth": 0,
             "ticks": ""
            }
           }
          ],
          "histogram2d": [
           {
            "type": "histogram2d",
            "colorbar": {
             "outlinewidth": 0,
             "ticks": ""
            },
            "colorscale": [
             [
              0.0,
              "#0d0887"
             ],
             [
              0.1111111111111111,
              "#46039f"
             ],
             [
              0.2222222222222222,
              "#7201a8"
             ],
             [
              0.3333333333333333,
              "#9c179e"
             ],
             [
              0.4444444444444444,
              "#bd3786"
             ],
             [
              0.5555555555555556,
              "#d8576b"
             ],
             [
              0.6666666666666666,
              "#ed7953"
             ],
             [
              0.7777777777777778,
              "#fb9f3a"
             ],
             [
              0.8888888888888888,
              "#fdca26"
             ],
             [
              1.0,
              "#f0f921"
             ]
            ]
           }
          ],
          "heatmap": [
           {
            "type": "heatmap",
            "colorbar": {
             "outlinewidth": 0,
             "ticks": ""
            },
            "colorscale": [
             [
              0.0,
              "#0d0887"
             ],
             [
              0.1111111111111111,
              "#46039f"
             ],
             [
              0.2222222222222222,
              "#7201a8"
             ],
             [
              0.3333333333333333,
              "#9c179e"
             ],
             [
              0.4444444444444444,
              "#bd3786"
             ],
             [
              0.5555555555555556,
              "#d8576b"
             ],
             [
              0.6666666666666666,
              "#ed7953"
             ],
             [
              0.7777777777777778,
              "#fb9f3a"
             ],
             [
              0.8888888888888888,
              "#fdca26"
             ],
             [
              1.0,
              "#f0f921"
             ]
            ]
           }
          ],
          "contourcarpet": [
           {
            "type": "contourcarpet",
            "colorbar": {
             "outlinewidth": 0,
             "ticks": ""
            }
           }
          ],
          "contour": [
           {
            "type": "contour",
            "colorbar": {
             "outlinewidth": 0,
             "ticks": ""
            },
            "colorscale": [
             [
              0.0,
              "#0d0887"
             ],
             [
              0.1111111111111111,
              "#46039f"
             ],
             [
              0.2222222222222222,
              "#7201a8"
             ],
             [
              0.3333333333333333,
              "#9c179e"
             ],
             [
              0.4444444444444444,
              "#bd3786"
             ],
             [
              0.5555555555555556,
              "#d8576b"
             ],
             [
              0.6666666666666666,
              "#ed7953"
             ],
             [
              0.7777777777777778,
              "#fb9f3a"
             ],
             [
              0.8888888888888888,
              "#fdca26"
             ],
             [
              1.0,
              "#f0f921"
             ]
            ]
           }
          ],
          "surface": [
           {
            "type": "surface",
            "colorbar": {
             "outlinewidth": 0,
             "ticks": ""
            },
            "colorscale": [
             [
              0.0,
              "#0d0887"
             ],
             [
              0.1111111111111111,
              "#46039f"
             ],
             [
              0.2222222222222222,
              "#7201a8"
             ],
             [
              0.3333333333333333,
              "#9c179e"
             ],
             [
              0.4444444444444444,
              "#bd3786"
             ],
             [
              0.5555555555555556,
              "#d8576b"
             ],
             [
              0.6666666666666666,
              "#ed7953"
             ],
             [
              0.7777777777777778,
              "#fb9f3a"
             ],
             [
              0.8888888888888888,
              "#fdca26"
             ],
             [
              1.0,
              "#f0f921"
             ]
            ]
           }
          ],
          "mesh3d": [
           {
            "type": "mesh3d",
            "colorbar": {
             "outlinewidth": 0,
             "ticks": ""
            }
           }
          ],
          "scatter": [
           {
            "fillpattern": {
             "fillmode": "overlay",
             "size": 10,
             "solidity": 0.2
            },
            "type": "scatter"
           }
          ],
          "parcoords": [
           {
            "type": "parcoords",
            "line": {
             "colorbar": {
              "outlinewidth": 0,
              "ticks": ""
             }
            }
           }
          ],
          "scatterpolargl": [
           {
            "type": "scatterpolargl",
            "marker": {
             "colorbar": {
              "outlinewidth": 0,
              "ticks": ""
             }
            }
           }
          ],
          "bar": [
           {
            "error_x": {
             "color": "#2a3f5f"
            },
            "error_y": {
             "color": "#2a3f5f"
            },
            "marker": {
             "line": {
              "color": "#E5ECF6",
              "width": 0.5
             },
             "pattern": {
              "fillmode": "overlay",
              "size": 10,
              "solidity": 0.2
             }
            },
            "type": "bar"
           }
          ],
          "scattergeo": [
           {
            "type": "scattergeo",
            "marker": {
             "colorbar": {
              "outlinewidth": 0,
              "ticks": ""
             }
            }
           }
          ],
          "scatterpolar": [
           {
            "type": "scatterpolar",
            "marker": {
             "colorbar": {
              "outlinewidth": 0,
              "ticks": ""
             }
            }
           }
          ],
          "histogram": [
           {
            "marker": {
             "pattern": {
              "fillmode": "overlay",
              "size": 10,
              "solidity": 0.2
             }
            },
            "type": "histogram"
           }
          ],
          "scattergl": [
           {
            "type": "scattergl",
            "marker": {
             "colorbar": {
              "outlinewidth": 0,
              "ticks": ""
             }
            }
           }
          ],
          "scatter3d": [
           {
            "type": "scatter3d",
            "line": {
             "colorbar": {
              "outlinewidth": 0,
              "ticks": ""
             }
            },
            "marker": {
             "colorbar": {
              "outlinewidth": 0,
              "ticks": ""
             }
            }
           }
          ],
          "scattermap": [
           {
            "type": "scattermap",
            "marker": {
             "colorbar": {
              "outlinewidth": 0,
              "ticks": ""
             }
            }
           }
          ],
          "scattermapbox": [
           {
            "type": "scattermapbox",
            "marker": {
             "colorbar": {
              "outlinewidth": 0,
              "ticks": ""
             }
            }
           }
          ],
          "scatterternary": [
           {
            "type": "scatterternary",
            "marker": {
             "colorbar": {
              "outlinewidth": 0,
              "ticks": ""
             }
            }
           }
          ],
          "scattercarpet": [
           {
            "type": "scattercarpet",
            "marker": {
             "colorbar": {
              "outlinewidth": 0,
              "ticks": ""
             }
            }
           }
          ],
          "carpet": [
           {
            "aaxis": {
             "endlinecolor": "#2a3f5f",
             "gridcolor": "white",
             "linecolor": "white",
             "minorgridcolor": "white",
             "startlinecolor": "#2a3f5f"
            },
            "baxis": {
             "endlinecolor": "#2a3f5f",
             "gridcolor": "white",
             "linecolor": "white",
             "minorgridcolor": "white",
             "startlinecolor": "#2a3f5f"
            },
            "type": "carpet"
           }
          ],
          "table": [
           {
            "cells": {
             "fill": {
              "color": "#EBF0F8"
             },
             "line": {
              "color": "white"
             }
            },
            "header": {
             "fill": {
              "color": "#C8D4E3"
             },
             "line": {
              "color": "white"
             }
            },
            "type": "table"
           }
          ],
          "barpolar": [
           {
            "marker": {
             "line": {
              "color": "#E5ECF6",
              "width": 0.5
             },
             "pattern": {
              "fillmode": "overlay",
              "size": 10,
              "solidity": 0.2
             }
            },
            "type": "barpolar"
           }
          ],
          "pie": [
           {
            "automargin": true,
            "type": "pie"
           }
          ]
         },
         "layout": {
          "autotypenumbers": "strict",
          "colorway": [
           "#636efa",
           "#EF553B",
           "#00cc96",
           "#ab63fa",
           "#FFA15A",
           "#19d3f3",
           "#FF6692",
           "#B6E880",
           "#FF97FF",
           "#FECB52"
          ],
          "font": {
           "color": "#2a3f5f"
          },
          "hovermode": "closest",
          "hoverlabel": {
           "align": "left"
          },
          "paper_bgcolor": "white",
          "plot_bgcolor": "#E5ECF6",
          "polar": {
           "bgcolor": "#E5ECF6",
           "angularaxis": {
            "gridcolor": "white",
            "linecolor": "white",
            "ticks": ""
           },
           "radialaxis": {
            "gridcolor": "white",
            "linecolor": "white",
            "ticks": ""
           }
          },
          "ternary": {
           "bgcolor": "#E5ECF6",
           "aaxis": {
            "gridcolor": "white",
            "linecolor": "white",
            "ticks": ""
           },
           "baxis": {
            "gridcolor": "white",
            "linecolor": "white",
            "ticks": ""
           },
           "caxis": {
            "gridcolor": "white",
            "linecolor": "white",
            "ticks": ""
           }
          },
          "coloraxis": {
           "colorbar": {
            "outlinewidth": 0,
            "ticks": ""
           }
          },
          "colorscale": {
           "sequential": [
            [
             0.0,
             "#0d0887"
            ],
            [
             0.1111111111111111,
             "#46039f"
            ],
            [
             0.2222222222222222,
             "#7201a8"
            ],
            [
             0.3333333333333333,
             "#9c179e"
            ],
            [
             0.4444444444444444,
             "#bd3786"
            ],
            [
             0.5555555555555556,
             "#d8576b"
            ],
            [
             0.6666666666666666,
             "#ed7953"
            ],
            [
             0.7777777777777778,
             "#fb9f3a"
            ],
            [
             0.8888888888888888,
             "#fdca26"
            ],
            [
             1.0,
             "#f0f921"
            ]
           ],
           "sequentialminus": [
            [
             0.0,
             "#0d0887"
            ],
            [
             0.1111111111111111,
             "#46039f"
            ],
            [
             0.2222222222222222,
             "#7201a8"
            ],
            [
             0.3333333333333333,
             "#9c179e"
            ],
            [
             0.4444444444444444,
             "#bd3786"
            ],
            [
             0.5555555555555556,
             "#d8576b"
            ],
            [
             0.6666666666666666,
             "#ed7953"
            ],
            [
             0.7777777777777778,
             "#fb9f3a"
            ],
            [
             0.8888888888888888,
             "#fdca26"
            ],
            [
             1.0,
             "#f0f921"
            ]
           ],
           "diverging": [
            [
             0,
             "#8e0152"
            ],
            [
             0.1,
             "#c51b7d"
            ],
            [
             0.2,
             "#de77ae"
            ],
            [
             0.3,
             "#f1b6da"
            ],
            [
             0.4,
             "#fde0ef"
            ],
            [
             0.5,
             "#f7f7f7"
            ],
            [
             0.6,
             "#e6f5d0"
            ],
            [
             0.7,
             "#b8e186"
            ],
            [
             0.8,
             "#7fbc41"
            ],
            [
             0.9,
             "#4d9221"
            ],
            [
             1,
             "#276419"
            ]
           ]
          },
          "xaxis": {
           "gridcolor": "white",
           "linecolor": "white",
           "ticks": "",
           "title": {
            "standoff": 15
           },
           "zerolinecolor": "white",
           "automargin": true,
           "zerolinewidth": 2
          },
          "yaxis": {
           "gridcolor": "white",
           "linecolor": "white",
           "ticks": "",
           "title": {
            "standoff": 15
           },
           "zerolinecolor": "white",
           "automargin": true,
           "zerolinewidth": 2
          },
          "scene": {
           "xaxis": {
            "backgroundcolor": "#E5ECF6",
            "gridcolor": "white",
            "linecolor": "white",
            "showbackground": true,
            "ticks": "",
            "zerolinecolor": "white",
            "gridwidth": 2
           },
           "yaxis": {
            "backgroundcolor": "#E5ECF6",
            "gridcolor": "white",
            "linecolor": "white",
            "showbackground": true,
            "ticks": "",
            "zerolinecolor": "white",
            "gridwidth": 2
           },
           "zaxis": {
            "backgroundcolor": "#E5ECF6",
            "gridcolor": "white",
            "linecolor": "white",
            "showbackground": true,
            "ticks": "",
            "zerolinecolor": "white",
            "gridwidth": 2
           }
          },
          "shapedefaults": {
           "line": {
            "color": "#2a3f5f"
           }
          },
          "annotationdefaults": {
           "arrowcolor": "#2a3f5f",
           "arrowhead": 0,
           "arrowwidth": 1
          },
          "geo": {
           "bgcolor": "white",
           "landcolor": "#E5ECF6",
           "subunitcolor": "white",
           "showland": true,
           "showlakes": true,
           "lakecolor": "white"
          },
          "title": {
           "x": 0.05
          },
          "mapbox": {
           "style": "light"
          }
         }
        },
        "xaxis": {
         "anchor": "y",
         "domain": [
          0.0,
          1.0
         ],
         "title": {
          "text": "Release Year"
         },
         "tickmode": "linear",
         "dtick": 1
        },
        "yaxis": {
         "anchor": "x",
         "domain": [
          0.0,
          1.0
         ],
         "title": {
          "text": "Average Popularity"
         }
        },
        "legend": {
         "title": {
          "text": "Artist"
         },
         "tracegroupgap": 0
        },
        "title": {
         "text": "Popularity Trends Over Time by Artist"
        },
        "font": {
         "size": 12
        },
        "showlegend": true
       },
       "config": {
        "plotlyServerURL": "https://plot.ly"
       }
      }
     },
     "metadata": {},
     "output_type": "display_data"
    }
   ],
   "execution_count": 97
  },
  {
   "metadata": {},
   "cell_type": "markdown",
   "source": "### Below is code that shows the relationship between energy, danceabilty and popularity. ",
   "id": "de75905fb1a40ba1"
  },
  {
   "metadata": {
    "ExecuteTime": {
     "end_time": "2025-07-18T20:29:12.377401Z",
     "start_time": "2025-07-18T20:29:12.087204Z"
    }
   },
   "cell_type": "code",
   "source": [
    "\n",
    "# Create a subplot with 1 row and 2 columns\n",
    "fig = make_subplots(\n",
    "    rows=1, cols=2,\n",
    "    specs=[[{'type': 'scene'}, {'type': 'xy'}]],\n",
    "    subplot_titles=('2D Scatter: Danceability vs Energy by Popularity')\n",
    ")\n",
    "\n",
    "# 3D Scatter Plot\n",
    "scatter_3d = go.Scatter3d(\n",
    "    x=df['energy'],\n",
    "    y=df['danceability'],\n",
    "    z=df['popularity'],\n",
    "    mode='markers',\n",
    "    marker=dict(\n",
    "        size=5,\n",
    "        color=df['artist'].astype('category').cat.codes,  # Color by artist\n",
    "        colorscale='Viridis',\n",
    "        showscale=False,\n",
    "        opacity=0.8\n",
    "    ),\n",
    "    text=df['track_name'] + ' (' + df['artist'] + ')',  # Hover text\n",
    "    hovertemplate='Track: %{text}<br>Energy: %{x:.2f}<br>Danceability: %{y:.2f}<br>Popularity: %{z}<extra></extra>'\n",
    ")\n",
    "\n",
    "# Add 3D scatter to subplot\n",
    "fig.add_trace(scatter_3d, row=1, col=1)\n",
    "\n",
    "# Update 3D scene layout\n",
    "fig.update_scenes(\n",
    "    dict(\n",
    "        xaxis_title='Energy',\n",
    "        yaxis_title='Danceability',\n",
    "        zaxis_title='Popularity'\n",
    "    ),\n",
    "    row=1, col=1\n",
    ")\n",
    "\n",
    "# 2D Scatter Plot\n",
    "scatter_2d = go.Scatter(\n",
    "    x=df['danceability'],\n",
    "    y=df['energy'],\n",
    "    mode='markers',\n",
    "    marker=dict(\n",
    "        size=10,\n",
    "        color=df['popularity'],  # Color by popularity\n",
    "        colorscale='Viridis',\n",
    "        showscale=True,\n",
    "        colorbar=dict(title='Popularity')\n",
    "    ),\n",
    "    text=df['track_name'] + ' (' + df['artist'] + ')',  # Hover text\n",
    "    hovertemplate='Track: %{text}<br>Danceability: %{x:.2f}<br>Energy: %{y:.2f}<br>Popularity: %{marker.color}<extra></extra>'\n",
    ")\n",
    "\n",
    "# Add 2D scatter to subplot\n",
    "fig.add_trace(scatter_2d, row=1, col=2)\n",
    "\n",
    "# Update 2D layout\n",
    "fig.update_xaxes(title_text='Danceability', row=1, col=2)\n",
    "fig.update_yaxes(title_text='Energy', row=1, col=2)\n",
    "\n",
    "# Update overall layout\n",
    "fig.update_layout(\n",
    "    title='Energy, Danceability, and Popularity Analysis',\n",
    "    font=dict(size=12),\n",
    "    showlegend=False,\n",
    "    width=1200,\n",
    "    height=600\n",
    ")\n",
    "\n",
    "# Show the plot\n",
    "fig.show()"
   ],
   "id": "a90192d2d500def6",
   "outputs": [
    {
     "data": {
      "application/vnd.plotly.v1+json": {
       "data": [
        {
         "hovertemplate": "Track: %{text}<br>Energy: %{x:.2f}<br>Danceability: %{y:.2f}<br>Popularity: %{z}<extra></extra>",
         "marker": {
          "color": {
           "dtype": "i1",
           "bdata": "AgICAgICAgICAgICAgICAgICAgICAgICAgICAgICAgICAgICAgICAgICAgICAgICAgIAAAAAAAAAAAAAAAAAAAAAAAAAAAAAAAAAAAAAAAAAAAAAAAAAAAAAAAAAAAAAAAAAAAEBAQEBAQEBAQEBAQEBAQEBAQEBAQEBAQEBAQEBAQEBAQEBAQEBAQEBAQEBAQEBAQEB"
          },
          "colorscale": [
           [
            0.0,
            "#440154"
           ],
           [
            0.1111111111111111,
            "#482878"
           ],
           [
            0.2222222222222222,
            "#3e4989"
           ],
           [
            0.3333333333333333,
            "#31688e"
           ],
           [
            0.4444444444444444,
            "#26828e"
           ],
           [
            0.5555555555555556,
            "#1f9e89"
           ],
           [
            0.6666666666666666,
            "#35b779"
           ],
           [
            0.7777777777777778,
            "#6ece58"
           ],
           [
            0.8888888888888888,
            "#b5de2b"
           ],
           [
            1.0,
            "#fde725"
           ]
          ],
          "opacity": 0.8,
          "showscale": false,
          "size": 5
         },
         "mode": "markers",
         "text": [
          "TAKEDOWN (JEONGYEON, JIHYO, CHAEYOUNG) (TWICE)",
          "Strategy (TWICE)",
          "THIS IS FOR (TWICE)",
          "Strategy (feat. Megan Thee Stallion) (TWICE)",
          "Strategy (from the Netflix film KPop Demon Hunters) (TWICE)",
          "FANCY (TWICE)",
          "What is Love? (TWICE)",
          "MARS (TWICE)",
          "OPTIONS (TWICE)",
          "RIGHT HAND GIRL (TWICE)",
          "FOUR (TWICE)",
          "PEACH GELATO (TWICE)",
          "BATTITUDE (NAYEON, JEONGYEON, MOMO, MINA) (TWICE)",
          "DAT AHH DAT OOH (SANA, JIHYO, DAHYUN, CHAEYOUNG, TZUYU) (TWICE)",
          "HI HELLO (TWICE)",
          "TALK (NAYEON, JIHYO) (TWICE)",
          "LET LOVE GO (JEONGYEON, MOMO, SANA, TZUYU) (TWICE)",
          "HEARTBREAK AVENUE (TWICE)",
          "SEESAW (TWICE)",
          "The Feels (TWICE)",
          "G.O.A.T. (MINA, DAHYUN, CHAEYOUNG) (TWICE)",
          "I CAN'T STOP ME (TWICE)",
          "Feel Special (TWICE)",
          "Talk that Talk (TWICE)",
          "THIS IS FOR (Extended) (TWICE)",
          "THIS IS FOR (TWICE)",
          "TAKEDOWN (JEONGYEON, JIHYO, CHAEYOUNG) (from the Netflix film KPop Demon Hunters) (TWICE)",
          "MARS (TWICE)",
          "OPTIONS (TWICE)",
          "FOUR (TWICE)",
          "RIGHT HAND GIRL (TWICE)",
          "PEACH GELATO (TWICE)",
          "BATTITUDE (NAYEON, JEONGYEON, MOMO, MINA) (TWICE)",
          "HI HELLO (TWICE)",
          "DAT AHH DAT OOH (SANA, JIHYO, DAHYUN, CHAEYOUNG, TZUYU) (TWICE)",
          "TALK (NAYEON, JIHYO) (TWICE)",
          "LET LOVE GO (JEONGYEON, MOMO, SANA, TZUYU) (TWICE)",
          "SEESAW (TWICE)",
          "G.O.A.T. (MINA, DAHYUN, CHAEYOUNG) (TWICE)",
          "HEARTBREAK AVENUE (TWICE)",
          "Alcohol-Free (TWICE)",
          "YES or YES (TWICE)",
          "Likey (TWICE)",
          "CHEER UP (TWICE)",
          "Dance The Night Away (TWICE)",
          "CRY FOR ME (TWICE)",
          "TT (TWICE)",
          "WE PRAY - TWICE Version (TWICE)",
          "Look At Me (TWICE)",
          "ONE SPARK (TWICE)",
          "JUMP (BLACKPINK)",
          "How You Like That (BLACKPINK)",
          "Kill This Love (BLACKPINK)",
          "Pink Venom (BLACKPINK)",
          "DDU-DU DDU-DU (BLACKPINK)",
          "Shut Down (BLACKPINK)",
          "Pretty Savage (BLACKPINK)",
          "BOOMBAYAH (BLACKPINK)",
          "As If It's Your Last (BLACKPINK)",
          "Lovesick Girls (BLACKPINK)",
          "Kiss and Make Up (BLACKPINK)",
          "PLAYING WITH FIRE (BLACKPINK)",
          "Forever Young (BLACKPINK)",
          "Typa Girl (BLACKPINK)",
          "Shut Down (BLACKPINK)",
          "WHISTLE (BLACKPINK)",
          "Pink Venom (BLACKPINK)",
          "Don't Know What To Do (BLACKPINK)",
          "Ice Cream (with Selena Gomez) (BLACKPINK)",
          "Ice Cream (with Selena Gomez) (BLACKPINK)",
          "Tally (BLACKPINK)",
          "Crazy Over You (BLACKPINK)",
          "THE GIRLS - BLACKPINK THE GAME OST (BLACKPINK)",
          "Sour Candy (with BLACKPINK) (BLACKPINK)",
          "Hard to Love (BLACKPINK)",
          "Love To Hate Me (BLACKPINK)",
          "STAY (BLACKPINK)",
          "Really (BLACKPINK)",
          "Bet You Wanna (feat. Cardi B) (BLACKPINK)",
          "See U Later (BLACKPINK)",
          "Sour Candy (with BLACKPINK) (BLACKPINK)",
          "Kick It (BLACKPINK)",
          "You Never Know (BLACKPINK)",
          "The Happiest Girl (BLACKPINK)",
          "Pink Venom (BLACKPINK)",
          "Ready For Love (BLACKPINK)",
          "Hope Not (BLACKPINK)",
          "Yeah Yeah Yeah (BLACKPINK)",
          "Yeah Yeah Yeah (BLACKPINK)",
          "Ready For Love (BLACKPINK)",
          "DDU-DU DDU-DU - Remix (BLACKPINK)",
          "The Happiest Girl (BLACKPINK)",
          "BOOMBAYAH - Japanese Version (BLACKPINK)",
          "SO HOT - THEBLACKLABEL REMIX BLACKPINK ARENA TOUR 2018 \"SPECIAL FINAL IN KYOCERA DOME OSAKA\" (BLACKPINK)",
          "WHISTLE - Acoustic Ver. (BLACKPINK)",
          "Sour Candy (with BLACKPINK) - Shygirl & Mura Masa Remix (BLACKPINK)",
          "DDU-DU DDU-DU - Japanese Version (BLACKPINK)",
          "DDU-DU DDU-DU - Live (BLACKPINK)",
          "DDU-DU DDU-DU (BLACKPINK)",
          "Kiss and Make Up - BLACKPINK ARENA TOUR 2018 \"SPECIAL FINAL IN KYOCERA DOME OSAKA\" (BLACKPINK)",
          "BOCA (Dreamcatcher)",
          "Scream (Dreamcatcher)",
          "JUSTICE (Dreamcatcher)",
          "BEcause (Dreamcatcher)",
          "BONVOYAGE (Dreamcatcher)",
          "Deja Vu (Dreamcatcher)",
          "Odd Eye (Dreamcatcher)",
          "MAISON (Dreamcatcher)",
          "VISION (Dreamcatcher)",
          "PIRI (Dreamcatcher)",
          "Jazz Bar (Dreamcatcher)",
          "YOU AND I (Dreamcatcher)",
          "OOTD (Dreamcatcher)",
          "Chase Me (Dreamcatcher)",
          "GOOD NIGHT (Dreamcatcher)",
          "Red Sun (Dreamcatcher)",
          "Seventh Heaven (Dreamcatcher)",
          "Starlight (Dreamcatcher)",
          "REASON (Dreamcatcher)",
          "Silent Night (Dreamcatcher)",
          "Black Or White (Dreamcatcher)",
          "Fairytale (Dreamcatcher)",
          "Fly high (Dreamcatcher)",
          "Can't get you out of my mind (Dreamcatcher)",
          "DEMIAN (Dreamcatcher)",
          "Whistle (Dreamcatcher)",
          "Full Moon (Dreamcatcher)",
          "Rising (Dreamcatcher)",
          "What (Dreamcatcher)",
          "Propose (Dreamcatcher)",
          "Alldaylong (Dreamcatcher)",
          "SAHARA (Dreamcatcher)",
          "Shatter (Dreamcatcher)",
          "2 Rings (Dreamcatcher)",
          "And there was no one left (Dreamcatcher)",
          "Break The Wall (Dreamcatcher)",
          "Wind Blows (Dreamcatcher)",
          "In The Frozen (Dreamcatcher)",
          "Fireflies (Dreamcatcher)",
          "Poison Love (Dreamcatcher)",
          "Locked Inside A Door (Dreamcatcher)",
          "Sleep-walking (Dreamcatcher)",
          "STΦMP! (Dreamcatcher)",
          "Tension (Dreamcatcher)",
          "Entrancing (SIYEON SOLO) (Dreamcatcher)",
          "Wonderland (Dreamcatcher)",
          "Eclipse (Dreamcatcher)",
          "No Dot (SU A SOLO) (Dreamcatcher)",
          "For (YOOHYEON SOLO) (Dreamcatcher)",
          "New days (Dreamcatcher)"
         ],
         "x": {
          "dtype": "f8",
          "bdata": "rAx0eVUo6T8B5j4mv7HmP79wfoofN+Y/eS1vxBBv5z9sRgM/j4XuPxvqOdWe5+c/lxqPOJ0o6j8vDeIFnSHsP48vW2dOj+4/HMMzWq+J6j93+MhaErHqPy3NBxbo4+Y/3AUnb1WZ5j8e+IBVUYfoPyy5iOfIh+g/EmBLpSWX7z9V2lJ0wavrPyq6gzpidug/XJjajG9L6D9cZnZnDbzrP09HPkA/S+0/W7IbMy1R6j/SWs3H5urnP6kZ5j8zHuQ/AVMMD0sA5j9Mxo1NqfzsP6oy6cWXUOk/nmr+Uhrj7z86cgh9k5jqP04Z/ej62Ok/i6ro4laX4T8LDUyCVp7oP9CdK2mkJOo/pXVxhIN24j/zgKhviBvmPxrrxahr9ec/LrS/K44y6T+lgE6LSdDoPwAAAAAAAPA/gqu4nymy6T/2weeGt0HkPymzuYdH6O0/5AYiUFJj5j9Gn6ISHKDoPxQoBJx19eM/ouAZJOPq6D/iw5cdeWDsP4g5Ao1RBuc/8NxI7aLx5z+pzuE8hSDqPwAAAAAAAPA/buptz/Ih6j/Yc8dtm1ztP6E7Y/yHSeY/E3gmKf2V6j+0r8JGym3tPwRTy0+7O+8/sbRI4uP46j8CyxSz7W7tP/ygKQf1+es/AAAAAAAA8D+OiFZqMqjoPwAAAAAAAPA/nCiWsF7+7z8AAAAAAADwP79c0NzfUew/Dl+wuLLC6z/58d438qLpP0ewXldmke4/AKqFXi3b6z8AAAAAAADwPw7QAGrb2+0/AAAAAAAA8D8eqU3gGwnsP5w5gW2p/+g/O+Hx/Qb57D9ZjNWKptnsPx796JFawOw/pG9FqyUA6j8AAAAAAADwP8jLQdityug/fC35BBiR5j/mW8+OFdjtP6/9DIpzVO4/LmEk1xMp6D/aaOt8TdrrPwle6qgSa+s/FjWWyTZA7T+1wQnj0UzuP8oj28TcCuU/AAAAAAAA8D8S1BPcAsjuP0NeSu07zOc/dgzFo+RZ7j/xSP1OqyvuP1jqt+4rmuk/AAAAAAAA8D+e9GgAhhzuPxmPGOPKpO8/JBtwJ9646j8tOKIuc6LvP7DIemjGNew/Nqxj7M726T/3yOuVLdXqP4Tik/kldu0/TxFtSoSB7z+8P1llVf3rPwYZssdzIek/3lH2U4Hf5z9OrXpu/PXmP5U57pVxpOs/AUiDNNC46z+WyoqcHnHuP6JDegWNveY/ectVepnV6D93Rp5kRA7uP6es02lyBuo/oHiZU6fj7z8AAAAAAADwPxjzuIKYv+s/AAAAAAAA8D9jN4suzVrtP77BbB2HyOs/PVGe2M2n5z9DxN9uaUfuP+OOz41Jvek/pTbTcFW66j9ubUsUftjsP7yA2O6v9u0/xGbszCBS6T8oAjnz13juP5NKObAR9+4/hIY4SGmb7D829lwesY/pP+IqKqV6m+o/DXYrJgF25z/405vZfYjsPwUe9ZeMr+0/p+AuHhzQ7T/6FIwhrAPqPyT5g0SVTec/X/J5KifQ7D/MjoASx+/lPxpjsfaogu8/OTFetZbm6z8AAAAAAADwP1VDU8Rcp+w/AAAAAAAA8D8AAAAAAADwP50KJdE8bOw/"
         },
         "y": {
          "dtype": "f8",
          "bdata": "Btxu6E795z+/Dr1wCobhP8sfqtNXW+Y/bOEULobU5j8UcjuNdI7nP1bS3L4vG+o/bADmQJBv7D+HVG5rfbjiPz5pryk1deM/WjpGpWxL6j9QH+X/PCfmP7+IaR/jxOg/kidmMdD94T9lLdGAwYrjP3Red2ygK+k/GU+Hsu2j5T84Gy3Ms3rkPyjK+s6paOQ/rQl2m4Tq6T92uClcvd3oP4bEjMx+JOc/kPLyG1Td5z+uPeZdAjXfP4oysFM0f+U/O11C21qt6D/+IEeugzXpP/IcpruAkd8/Zfs2Dn/J5T+BVqgotz7oP32JmXDbfeg/TPkmZ56i4z8L43P3su7kP5eIJFqV2eM/SGLhTkg85D9OiKcHvjHnP3+qwOReA+M/cK4pOrc74z+6ytJFzpDlP7tPjMRppuQ/VEkCXU8d5j/AXnvO0WjlP1orqthhU+U/VmLgomuL6T/WkjG4aQ/tPwKG1dkdg+k/t0VmiknU5z9yxJzsagfnPwytez1YcOU/BE3vKMhB7j/+OP6LLrbjP9kvp7shZ+0/6PkiKTtq6D9TZ7OnLH7qP45XsdpALuk/GeSeyOO35D8P3q+WRovrP0Z6QxoRiOQ/5EnEWhcz5j+b1J6YsyfvP0tuMSXbZ+s/myYEji5T7j+RRSHudFLpP0+tRdcdkug/uL+bC1EM6z9Jyi8xPyPtP7vkpf4dous/Kk7Wvty97D/qpQUkE4/mP2ZNTEGDiek/FkNXi3pb5z8fBjiDR1HpP18YTDEq2Os/CMadbR615j+m5i3DpVjnP9GesfVHxuw/bxn0GY456z+JzvQb0aHoP6zBIYLUWOg/VZfh4tQT7z9hg+0oOOLpP8EGqSqiLec/pXXCQQ0K5D+sjZvn6FrtP2ZEr26/m+c/IcwM8KGl6T8AAAAAAADwP6X2zx3+U+4/z4VPnjW36j9/KsuTRKznP734Xn0djuk/kdx/6Htu5D8AAAAAAADwP7t9ZFeMqug/Ial6uXX86D/rNF2HSTPmP4zXZxaNbuI/E7fNCLvT5T+fz3RFYrzrP1Ysc7f6xOg/FHqvcyTz6z+aU9NPF6/aP+d+rPG/3OI/AlEcaylZ5T9bcrkm4KnjP8VJoECkQuM/Re0UjQa15D816aJkMs7mP9xGMZeKDeM/QCPPLbwh4j+Pa+fwy0bmP02LKpFVsuQ/+5zR+UkF5z/ppG8CAEDmP21bhRDrceE/nB7wBLw75T8EwkfzQ5XnP8Ty+9ge1+U/MJsSdHLm3T+ETYce5r/hP5i5+3Z0w+A/3uzJm8HX3j9WN1b2MMDdPyth6dDW/+E/pSx/EY2z4j8lMr52CCzcP9AStY/V2+U/3h7H0qUN4j80bQZujknhP19VQ4R6Yt4/G0L47MQG1j+n0Zti5orgP6xtroT62OE/lLmiv4v44j94J81dE0DfP4kbd922wuY/8lNivM2T4T+jFX05DcTjP9z8XDslg+I/pT5Bdl6k4j9QuK0l5/bgP7UtFOm6h+I/jHFwoaL94D8+scwQBo/gP2twJLlbieQ//cXTtzNg4z/wMMiIyqzmP5E/nx8HId0/d9MCrF7p4j8MMEryzEjYPwV/GfrKruM/"
         },
         "z": {
          "dtype": "i1",
          "bdata": "W1dTTU5NT0lIR0dGRkZGRUVFRUtFS0pJPD07NDMzMzIyMTIxMTAwMUVIRkhGRkZGQ0RdTk9NTUxMT1BLTU1ISEhMREVDQUFDQkRCQ0Y/Pz9CPz89PTw7Ojk5NzY6OzktNS8wNjk5NzY0NjU0MjMwMjAwMS4yLi4tLSwtKyosLCsrKykrKiopKioqKSkoJyknKCYoJyYn"
         },
         "type": "scatter3d",
         "scene": "scene"
        },
        {
         "hovertemplate": "Track: %{text}<br>Danceability: %{x:.2f}<br>Energy: %{y:.2f}<br>Popularity: %{marker.color}<extra></extra>",
         "marker": {
          "color": {
           "dtype": "i1",
           "bdata": "W1dTTU5NT0lIR0dGRkZGRUVFRUtFS0pJPD07NDMzMzIyMTIxMTAwMUVIRkhGRkZGQ0RdTk9NTUxMT1BLTU1ISEhMREVDQUFDQkRCQ0Y/Pz9CPz89PTw7Ojk5NzY6OzktNS8wNjk5NzY0NjU0MjMwMjAwMS4yLi4tLSwtKyosLCsrKykrKiopKioqKSkoJyknKCYoJyYn"
          },
          "colorbar": {
           "title": {
            "text": "Popularity"
           }
          },
          "colorscale": [
           [
            0.0,
            "#440154"
           ],
           [
            0.1111111111111111,
            "#482878"
           ],
           [
            0.2222222222222222,
            "#3e4989"
           ],
           [
            0.3333333333333333,
            "#31688e"
           ],
           [
            0.4444444444444444,
            "#26828e"
           ],
           [
            0.5555555555555556,
            "#1f9e89"
           ],
           [
            0.6666666666666666,
            "#35b779"
           ],
           [
            0.7777777777777778,
            "#6ece58"
           ],
           [
            0.8888888888888888,
            "#b5de2b"
           ],
           [
            1.0,
            "#fde725"
           ]
          ],
          "showscale": true,
          "size": 10
         },
         "mode": "markers",
         "text": [
          "TAKEDOWN (JEONGYEON, JIHYO, CHAEYOUNG) (TWICE)",
          "Strategy (TWICE)",
          "THIS IS FOR (TWICE)",
          "Strategy (feat. Megan Thee Stallion) (TWICE)",
          "Strategy (from the Netflix film KPop Demon Hunters) (TWICE)",
          "FANCY (TWICE)",
          "What is Love? (TWICE)",
          "MARS (TWICE)",
          "OPTIONS (TWICE)",
          "RIGHT HAND GIRL (TWICE)",
          "FOUR (TWICE)",
          "PEACH GELATO (TWICE)",
          "BATTITUDE (NAYEON, JEONGYEON, MOMO, MINA) (TWICE)",
          "DAT AHH DAT OOH (SANA, JIHYO, DAHYUN, CHAEYOUNG, TZUYU) (TWICE)",
          "HI HELLO (TWICE)",
          "TALK (NAYEON, JIHYO) (TWICE)",
          "LET LOVE GO (JEONGYEON, MOMO, SANA, TZUYU) (TWICE)",
          "HEARTBREAK AVENUE (TWICE)",
          "SEESAW (TWICE)",
          "The Feels (TWICE)",
          "G.O.A.T. (MINA, DAHYUN, CHAEYOUNG) (TWICE)",
          "I CAN'T STOP ME (TWICE)",
          "Feel Special (TWICE)",
          "Talk that Talk (TWICE)",
          "THIS IS FOR (Extended) (TWICE)",
          "THIS IS FOR (TWICE)",
          "TAKEDOWN (JEONGYEON, JIHYO, CHAEYOUNG) (from the Netflix film KPop Demon Hunters) (TWICE)",
          "MARS (TWICE)",
          "OPTIONS (TWICE)",
          "FOUR (TWICE)",
          "RIGHT HAND GIRL (TWICE)",
          "PEACH GELATO (TWICE)",
          "BATTITUDE (NAYEON, JEONGYEON, MOMO, MINA) (TWICE)",
          "HI HELLO (TWICE)",
          "DAT AHH DAT OOH (SANA, JIHYO, DAHYUN, CHAEYOUNG, TZUYU) (TWICE)",
          "TALK (NAYEON, JIHYO) (TWICE)",
          "LET LOVE GO (JEONGYEON, MOMO, SANA, TZUYU) (TWICE)",
          "SEESAW (TWICE)",
          "G.O.A.T. (MINA, DAHYUN, CHAEYOUNG) (TWICE)",
          "HEARTBREAK AVENUE (TWICE)",
          "Alcohol-Free (TWICE)",
          "YES or YES (TWICE)",
          "Likey (TWICE)",
          "CHEER UP (TWICE)",
          "Dance The Night Away (TWICE)",
          "CRY FOR ME (TWICE)",
          "TT (TWICE)",
          "WE PRAY - TWICE Version (TWICE)",
          "Look At Me (TWICE)",
          "ONE SPARK (TWICE)",
          "JUMP (BLACKPINK)",
          "How You Like That (BLACKPINK)",
          "Kill This Love (BLACKPINK)",
          "Pink Venom (BLACKPINK)",
          "DDU-DU DDU-DU (BLACKPINK)",
          "Shut Down (BLACKPINK)",
          "Pretty Savage (BLACKPINK)",
          "BOOMBAYAH (BLACKPINK)",
          "As If It's Your Last (BLACKPINK)",
          "Lovesick Girls (BLACKPINK)",
          "Kiss and Make Up (BLACKPINK)",
          "PLAYING WITH FIRE (BLACKPINK)",
          "Forever Young (BLACKPINK)",
          "Typa Girl (BLACKPINK)",
          "Shut Down (BLACKPINK)",
          "WHISTLE (BLACKPINK)",
          "Pink Venom (BLACKPINK)",
          "Don't Know What To Do (BLACKPINK)",
          "Ice Cream (with Selena Gomez) (BLACKPINK)",
          "Ice Cream (with Selena Gomez) (BLACKPINK)",
          "Tally (BLACKPINK)",
          "Crazy Over You (BLACKPINK)",
          "THE GIRLS - BLACKPINK THE GAME OST (BLACKPINK)",
          "Sour Candy (with BLACKPINK) (BLACKPINK)",
          "Hard to Love (BLACKPINK)",
          "Love To Hate Me (BLACKPINK)",
          "STAY (BLACKPINK)",
          "Really (BLACKPINK)",
          "Bet You Wanna (feat. Cardi B) (BLACKPINK)",
          "See U Later (BLACKPINK)",
          "Sour Candy (with BLACKPINK) (BLACKPINK)",
          "Kick It (BLACKPINK)",
          "You Never Know (BLACKPINK)",
          "The Happiest Girl (BLACKPINK)",
          "Pink Venom (BLACKPINK)",
          "Ready For Love (BLACKPINK)",
          "Hope Not (BLACKPINK)",
          "Yeah Yeah Yeah (BLACKPINK)",
          "Yeah Yeah Yeah (BLACKPINK)",
          "Ready For Love (BLACKPINK)",
          "DDU-DU DDU-DU - Remix (BLACKPINK)",
          "The Happiest Girl (BLACKPINK)",
          "BOOMBAYAH - Japanese Version (BLACKPINK)",
          "SO HOT - THEBLACKLABEL REMIX BLACKPINK ARENA TOUR 2018 \"SPECIAL FINAL IN KYOCERA DOME OSAKA\" (BLACKPINK)",
          "WHISTLE - Acoustic Ver. (BLACKPINK)",
          "Sour Candy (with BLACKPINK) - Shygirl & Mura Masa Remix (BLACKPINK)",
          "DDU-DU DDU-DU - Japanese Version (BLACKPINK)",
          "DDU-DU DDU-DU - Live (BLACKPINK)",
          "DDU-DU DDU-DU (BLACKPINK)",
          "Kiss and Make Up - BLACKPINK ARENA TOUR 2018 \"SPECIAL FINAL IN KYOCERA DOME OSAKA\" (BLACKPINK)",
          "BOCA (Dreamcatcher)",
          "Scream (Dreamcatcher)",
          "JUSTICE (Dreamcatcher)",
          "BEcause (Dreamcatcher)",
          "BONVOYAGE (Dreamcatcher)",
          "Deja Vu (Dreamcatcher)",
          "Odd Eye (Dreamcatcher)",
          "MAISON (Dreamcatcher)",
          "VISION (Dreamcatcher)",
          "PIRI (Dreamcatcher)",
          "Jazz Bar (Dreamcatcher)",
          "YOU AND I (Dreamcatcher)",
          "OOTD (Dreamcatcher)",
          "Chase Me (Dreamcatcher)",
          "GOOD NIGHT (Dreamcatcher)",
          "Red Sun (Dreamcatcher)",
          "Seventh Heaven (Dreamcatcher)",
          "Starlight (Dreamcatcher)",
          "REASON (Dreamcatcher)",
          "Silent Night (Dreamcatcher)",
          "Black Or White (Dreamcatcher)",
          "Fairytale (Dreamcatcher)",
          "Fly high (Dreamcatcher)",
          "Can't get you out of my mind (Dreamcatcher)",
          "DEMIAN (Dreamcatcher)",
          "Whistle (Dreamcatcher)",
          "Full Moon (Dreamcatcher)",
          "Rising (Dreamcatcher)",
          "What (Dreamcatcher)",
          "Propose (Dreamcatcher)",
          "Alldaylong (Dreamcatcher)",
          "SAHARA (Dreamcatcher)",
          "Shatter (Dreamcatcher)",
          "2 Rings (Dreamcatcher)",
          "And there was no one left (Dreamcatcher)",
          "Break The Wall (Dreamcatcher)",
          "Wind Blows (Dreamcatcher)",
          "In The Frozen (Dreamcatcher)",
          "Fireflies (Dreamcatcher)",
          "Poison Love (Dreamcatcher)",
          "Locked Inside A Door (Dreamcatcher)",
          "Sleep-walking (Dreamcatcher)",
          "STΦMP! (Dreamcatcher)",
          "Tension (Dreamcatcher)",
          "Entrancing (SIYEON SOLO) (Dreamcatcher)",
          "Wonderland (Dreamcatcher)",
          "Eclipse (Dreamcatcher)",
          "No Dot (SU A SOLO) (Dreamcatcher)",
          "For (YOOHYEON SOLO) (Dreamcatcher)",
          "New days (Dreamcatcher)"
         ],
         "x": {
          "dtype": "f8",
          "bdata": "Btxu6E795z+/Dr1wCobhP8sfqtNXW+Y/bOEULobU5j8UcjuNdI7nP1bS3L4vG+o/bADmQJBv7D+HVG5rfbjiPz5pryk1deM/WjpGpWxL6j9QH+X/PCfmP7+IaR/jxOg/kidmMdD94T9lLdGAwYrjP3Red2ygK+k/GU+Hsu2j5T84Gy3Ms3rkPyjK+s6paOQ/rQl2m4Tq6T92uClcvd3oP4bEjMx+JOc/kPLyG1Td5z+uPeZdAjXfP4oysFM0f+U/O11C21qt6D/+IEeugzXpP/IcpruAkd8/Zfs2Dn/J5T+BVqgotz7oP32JmXDbfeg/TPkmZ56i4z8L43P3su7kP5eIJFqV2eM/SGLhTkg85D9OiKcHvjHnP3+qwOReA+M/cK4pOrc74z+6ytJFzpDlP7tPjMRppuQ/VEkCXU8d5j/AXnvO0WjlP1orqthhU+U/VmLgomuL6T/WkjG4aQ/tPwKG1dkdg+k/t0VmiknU5z9yxJzsagfnPwytez1YcOU/BE3vKMhB7j/+OP6LLrbjP9kvp7shZ+0/6PkiKTtq6D9TZ7OnLH7qP45XsdpALuk/GeSeyOO35D8P3q+WRovrP0Z6QxoRiOQ/5EnEWhcz5j+b1J6YsyfvP0tuMSXbZ+s/myYEji5T7j+RRSHudFLpP0+tRdcdkug/uL+bC1EM6z9Jyi8xPyPtP7vkpf4dous/Kk7Wvty97D/qpQUkE4/mP2ZNTEGDiek/FkNXi3pb5z8fBjiDR1HpP18YTDEq2Os/CMadbR615j+m5i3DpVjnP9GesfVHxuw/bxn0GY456z+JzvQb0aHoP6zBIYLUWOg/VZfh4tQT7z9hg+0oOOLpP8EGqSqiLec/pXXCQQ0K5D+sjZvn6FrtP2ZEr26/m+c/IcwM8KGl6T8AAAAAAADwP6X2zx3+U+4/z4VPnjW36j9/KsuTRKznP734Xn0djuk/kdx/6Htu5D8AAAAAAADwP7t9ZFeMqug/Ial6uXX86D/rNF2HSTPmP4zXZxaNbuI/E7fNCLvT5T+fz3RFYrzrP1Ysc7f6xOg/FHqvcyTz6z+aU9NPF6/aP+d+rPG/3OI/AlEcaylZ5T9bcrkm4KnjP8VJoECkQuM/Re0UjQa15D816aJkMs7mP9xGMZeKDeM/QCPPLbwh4j+Pa+fwy0bmP02LKpFVsuQ/+5zR+UkF5z/ppG8CAEDmP21bhRDrceE/nB7wBLw75T8EwkfzQ5XnP8Ty+9ge1+U/MJsSdHLm3T+ETYce5r/hP5i5+3Z0w+A/3uzJm8HX3j9WN1b2MMDdPyth6dDW/+E/pSx/EY2z4j8lMr52CCzcP9AStY/V2+U/3h7H0qUN4j80bQZujknhP19VQ4R6Yt4/G0L47MQG1j+n0Zti5orgP6xtroT62OE/lLmiv4v44j94J81dE0DfP4kbd922wuY/8lNivM2T4T+jFX05DcTjP9z8XDslg+I/pT5Bdl6k4j9QuK0l5/bgP7UtFOm6h+I/jHFwoaL94D8+scwQBo/gP2twJLlbieQ//cXTtzNg4z/wMMiIyqzmP5E/nx8HId0/d9MCrF7p4j8MMEryzEjYPwV/GfrKruM/"
         },
         "y": {
          "dtype": "f8",
          "bdata": "rAx0eVUo6T8B5j4mv7HmP79wfoofN+Y/eS1vxBBv5z9sRgM/j4XuPxvqOdWe5+c/lxqPOJ0o6j8vDeIFnSHsP48vW2dOj+4/HMMzWq+J6j93+MhaErHqPy3NBxbo4+Y/3AUnb1WZ5j8e+IBVUYfoPyy5iOfIh+g/EmBLpSWX7z9V2lJ0wavrPyq6gzpidug/XJjajG9L6D9cZnZnDbzrP09HPkA/S+0/W7IbMy1R6j/SWs3H5urnP6kZ5j8zHuQ/AVMMD0sA5j9Mxo1NqfzsP6oy6cWXUOk/nmr+Uhrj7z86cgh9k5jqP04Z/ej62Ok/i6ro4laX4T8LDUyCVp7oP9CdK2mkJOo/pXVxhIN24j/zgKhviBvmPxrrxahr9ec/LrS/K44y6T+lgE6LSdDoPwAAAAAAAPA/gqu4nymy6T/2weeGt0HkPymzuYdH6O0/5AYiUFJj5j9Gn6ISHKDoPxQoBJx19eM/ouAZJOPq6D/iw5cdeWDsP4g5Ao1RBuc/8NxI7aLx5z+pzuE8hSDqPwAAAAAAAPA/buptz/Ih6j/Yc8dtm1ztP6E7Y/yHSeY/E3gmKf2V6j+0r8JGym3tPwRTy0+7O+8/sbRI4uP46j8CyxSz7W7tP/ygKQf1+es/AAAAAAAA8D+OiFZqMqjoPwAAAAAAAPA/nCiWsF7+7z8AAAAAAADwP79c0NzfUew/Dl+wuLLC6z/58d438qLpP0ewXldmke4/AKqFXi3b6z8AAAAAAADwPw7QAGrb2+0/AAAAAAAA8D8eqU3gGwnsP5w5gW2p/+g/O+Hx/Qb57D9ZjNWKptnsPx796JFawOw/pG9FqyUA6j8AAAAAAADwP8jLQdityug/fC35BBiR5j/mW8+OFdjtP6/9DIpzVO4/LmEk1xMp6D/aaOt8TdrrPwle6qgSa+s/FjWWyTZA7T+1wQnj0UzuP8oj28TcCuU/AAAAAAAA8D8S1BPcAsjuP0NeSu07zOc/dgzFo+RZ7j/xSP1OqyvuP1jqt+4rmuk/AAAAAAAA8D+e9GgAhhzuPxmPGOPKpO8/JBtwJ9646j8tOKIuc6LvP7DIemjGNew/Nqxj7M726T/3yOuVLdXqP4Tik/kldu0/TxFtSoSB7z+8P1llVf3rPwYZssdzIek/3lH2U4Hf5z9OrXpu/PXmP5U57pVxpOs/AUiDNNC46z+WyoqcHnHuP6JDegWNveY/ectVepnV6D93Rp5kRA7uP6es02lyBuo/oHiZU6fj7z8AAAAAAADwPxjzuIKYv+s/AAAAAAAA8D9jN4suzVrtP77BbB2HyOs/PVGe2M2n5z9DxN9uaUfuP+OOz41Jvek/pTbTcFW66j9ubUsUftjsP7yA2O6v9u0/xGbszCBS6T8oAjnz13juP5NKObAR9+4/hIY4SGmb7D829lwesY/pP+IqKqV6m+o/DXYrJgF25z/405vZfYjsPwUe9ZeMr+0/p+AuHhzQ7T/6FIwhrAPqPyT5g0SVTec/X/J5KifQ7D/MjoASx+/lPxpjsfaogu8/OTFetZbm6z8AAAAAAADwP1VDU8Rcp+w/AAAAAAAA8D8AAAAAAADwP50KJdE8bOw/"
         },
         "type": "scatter",
         "xaxis": "x",
         "yaxis": "y"
        }
       ],
       "layout": {
        "template": {
         "data": {
          "histogram2dcontour": [
           {
            "type": "histogram2dcontour",
            "colorbar": {
             "outlinewidth": 0,
             "ticks": ""
            },
            "colorscale": [
             [
              0.0,
              "#0d0887"
             ],
             [
              0.1111111111111111,
              "#46039f"
             ],
             [
              0.2222222222222222,
              "#7201a8"
             ],
             [
              0.3333333333333333,
              "#9c179e"
             ],
             [
              0.4444444444444444,
              "#bd3786"
             ],
             [
              0.5555555555555556,
              "#d8576b"
             ],
             [
              0.6666666666666666,
              "#ed7953"
             ],
             [
              0.7777777777777778,
              "#fb9f3a"
             ],
             [
              0.8888888888888888,
              "#fdca26"
             ],
             [
              1.0,
              "#f0f921"
             ]
            ]
           }
          ],
          "choropleth": [
           {
            "type": "choropleth",
            "colorbar": {
             "outlinewidth": 0,
             "ticks": ""
            }
           }
          ],
          "histogram2d": [
           {
            "type": "histogram2d",
            "colorbar": {
             "outlinewidth": 0,
             "ticks": ""
            },
            "colorscale": [
             [
              0.0,
              "#0d0887"
             ],
             [
              0.1111111111111111,
              "#46039f"
             ],
             [
              0.2222222222222222,
              "#7201a8"
             ],
             [
              0.3333333333333333,
              "#9c179e"
             ],
             [
              0.4444444444444444,
              "#bd3786"
             ],
             [
              0.5555555555555556,
              "#d8576b"
             ],
             [
              0.6666666666666666,
              "#ed7953"
             ],
             [
              0.7777777777777778,
              "#fb9f3a"
             ],
             [
              0.8888888888888888,
              "#fdca26"
             ],
             [
              1.0,
              "#f0f921"
             ]
            ]
           }
          ],
          "heatmap": [
           {
            "type": "heatmap",
            "colorbar": {
             "outlinewidth": 0,
             "ticks": ""
            },
            "colorscale": [
             [
              0.0,
              "#0d0887"
             ],
             [
              0.1111111111111111,
              "#46039f"
             ],
             [
              0.2222222222222222,
              "#7201a8"
             ],
             [
              0.3333333333333333,
              "#9c179e"
             ],
             [
              0.4444444444444444,
              "#bd3786"
             ],
             [
              0.5555555555555556,
              "#d8576b"
             ],
             [
              0.6666666666666666,
              "#ed7953"
             ],
             [
              0.7777777777777778,
              "#fb9f3a"
             ],
             [
              0.8888888888888888,
              "#fdca26"
             ],
             [
              1.0,
              "#f0f921"
             ]
            ]
           }
          ],
          "contourcarpet": [
           {
            "type": "contourcarpet",
            "colorbar": {
             "outlinewidth": 0,
             "ticks": ""
            }
           }
          ],
          "contour": [
           {
            "type": "contour",
            "colorbar": {
             "outlinewidth": 0,
             "ticks": ""
            },
            "colorscale": [
             [
              0.0,
              "#0d0887"
             ],
             [
              0.1111111111111111,
              "#46039f"
             ],
             [
              0.2222222222222222,
              "#7201a8"
             ],
             [
              0.3333333333333333,
              "#9c179e"
             ],
             [
              0.4444444444444444,
              "#bd3786"
             ],
             [
              0.5555555555555556,
              "#d8576b"
             ],
             [
              0.6666666666666666,
              "#ed7953"
             ],
             [
              0.7777777777777778,
              "#fb9f3a"
             ],
             [
              0.8888888888888888,
              "#fdca26"
             ],
             [
              1.0,
              "#f0f921"
             ]
            ]
           }
          ],
          "surface": [
           {
            "type": "surface",
            "colorbar": {
             "outlinewidth": 0,
             "ticks": ""
            },
            "colorscale": [
             [
              0.0,
              "#0d0887"
             ],
             [
              0.1111111111111111,
              "#46039f"
             ],
             [
              0.2222222222222222,
              "#7201a8"
             ],
             [
              0.3333333333333333,
              "#9c179e"
             ],
             [
              0.4444444444444444,
              "#bd3786"
             ],
             [
              0.5555555555555556,
              "#d8576b"
             ],
             [
              0.6666666666666666,
              "#ed7953"
             ],
             [
              0.7777777777777778,
              "#fb9f3a"
             ],
             [
              0.8888888888888888,
              "#fdca26"
             ],
             [
              1.0,
              "#f0f921"
             ]
            ]
           }
          ],
          "mesh3d": [
           {
            "type": "mesh3d",
            "colorbar": {
             "outlinewidth": 0,
             "ticks": ""
            }
           }
          ],
          "scatter": [
           {
            "fillpattern": {
             "fillmode": "overlay",
             "size": 10,
             "solidity": 0.2
            },
            "type": "scatter"
           }
          ],
          "parcoords": [
           {
            "type": "parcoords",
            "line": {
             "colorbar": {
              "outlinewidth": 0,
              "ticks": ""
             }
            }
           }
          ],
          "scatterpolargl": [
           {
            "type": "scatterpolargl",
            "marker": {
             "colorbar": {
              "outlinewidth": 0,
              "ticks": ""
             }
            }
           }
          ],
          "bar": [
           {
            "error_x": {
             "color": "#2a3f5f"
            },
            "error_y": {
             "color": "#2a3f5f"
            },
            "marker": {
             "line": {
              "color": "#E5ECF6",
              "width": 0.5
             },
             "pattern": {
              "fillmode": "overlay",
              "size": 10,
              "solidity": 0.2
             }
            },
            "type": "bar"
           }
          ],
          "scattergeo": [
           {
            "type": "scattergeo",
            "marker": {
             "colorbar": {
              "outlinewidth": 0,
              "ticks": ""
             }
            }
           }
          ],
          "scatterpolar": [
           {
            "type": "scatterpolar",
            "marker": {
             "colorbar": {
              "outlinewidth": 0,
              "ticks": ""
             }
            }
           }
          ],
          "histogram": [
           {
            "marker": {
             "pattern": {
              "fillmode": "overlay",
              "size": 10,
              "solidity": 0.2
             }
            },
            "type": "histogram"
           }
          ],
          "scattergl": [
           {
            "type": "scattergl",
            "marker": {
             "colorbar": {
              "outlinewidth": 0,
              "ticks": ""
             }
            }
           }
          ],
          "scatter3d": [
           {
            "type": "scatter3d",
            "line": {
             "colorbar": {
              "outlinewidth": 0,
              "ticks": ""
             }
            },
            "marker": {
             "colorbar": {
              "outlinewidth": 0,
              "ticks": ""
             }
            }
           }
          ],
          "scattermap": [
           {
            "type": "scattermap",
            "marker": {
             "colorbar": {
              "outlinewidth": 0,
              "ticks": ""
             }
            }
           }
          ],
          "scattermapbox": [
           {
            "type": "scattermapbox",
            "marker": {
             "colorbar": {
              "outlinewidth": 0,
              "ticks": ""
             }
            }
           }
          ],
          "scatterternary": [
           {
            "type": "scatterternary",
            "marker": {
             "colorbar": {
              "outlinewidth": 0,
              "ticks": ""
             }
            }
           }
          ],
          "scattercarpet": [
           {
            "type": "scattercarpet",
            "marker": {
             "colorbar": {
              "outlinewidth": 0,
              "ticks": ""
             }
            }
           }
          ],
          "carpet": [
           {
            "aaxis": {
             "endlinecolor": "#2a3f5f",
             "gridcolor": "white",
             "linecolor": "white",
             "minorgridcolor": "white",
             "startlinecolor": "#2a3f5f"
            },
            "baxis": {
             "endlinecolor": "#2a3f5f",
             "gridcolor": "white",
             "linecolor": "white",
             "minorgridcolor": "white",
             "startlinecolor": "#2a3f5f"
            },
            "type": "carpet"
           }
          ],
          "table": [
           {
            "cells": {
             "fill": {
              "color": "#EBF0F8"
             },
             "line": {
              "color": "white"
             }
            },
            "header": {
             "fill": {
              "color": "#C8D4E3"
             },
             "line": {
              "color": "white"
             }
            },
            "type": "table"
           }
          ],
          "barpolar": [
           {
            "marker": {
             "line": {
              "color": "#E5ECF6",
              "width": 0.5
             },
             "pattern": {
              "fillmode": "overlay",
              "size": 10,
              "solidity": 0.2
             }
            },
            "type": "barpolar"
           }
          ],
          "pie": [
           {
            "automargin": true,
            "type": "pie"
           }
          ]
         },
         "layout": {
          "autotypenumbers": "strict",
          "colorway": [
           "#636efa",
           "#EF553B",
           "#00cc96",
           "#ab63fa",
           "#FFA15A",
           "#19d3f3",
           "#FF6692",
           "#B6E880",
           "#FF97FF",
           "#FECB52"
          ],
          "font": {
           "color": "#2a3f5f"
          },
          "hovermode": "closest",
          "hoverlabel": {
           "align": "left"
          },
          "paper_bgcolor": "white",
          "plot_bgcolor": "#E5ECF6",
          "polar": {
           "bgcolor": "#E5ECF6",
           "angularaxis": {
            "gridcolor": "white",
            "linecolor": "white",
            "ticks": ""
           },
           "radialaxis": {
            "gridcolor": "white",
            "linecolor": "white",
            "ticks": ""
           }
          },
          "ternary": {
           "bgcolor": "#E5ECF6",
           "aaxis": {
            "gridcolor": "white",
            "linecolor": "white",
            "ticks": ""
           },
           "baxis": {
            "gridcolor": "white",
            "linecolor": "white",
            "ticks": ""
           },
           "caxis": {
            "gridcolor": "white",
            "linecolor": "white",
            "ticks": ""
           }
          },
          "coloraxis": {
           "colorbar": {
            "outlinewidth": 0,
            "ticks": ""
           }
          },
          "colorscale": {
           "sequential": [
            [
             0.0,
             "#0d0887"
            ],
            [
             0.1111111111111111,
             "#46039f"
            ],
            [
             0.2222222222222222,
             "#7201a8"
            ],
            [
             0.3333333333333333,
             "#9c179e"
            ],
            [
             0.4444444444444444,
             "#bd3786"
            ],
            [
             0.5555555555555556,
             "#d8576b"
            ],
            [
             0.6666666666666666,
             "#ed7953"
            ],
            [
             0.7777777777777778,
             "#fb9f3a"
            ],
            [
             0.8888888888888888,
             "#fdca26"
            ],
            [
             1.0,
             "#f0f921"
            ]
           ],
           "sequentialminus": [
            [
             0.0,
             "#0d0887"
            ],
            [
             0.1111111111111111,
             "#46039f"
            ],
            [
             0.2222222222222222,
             "#7201a8"
            ],
            [
             0.3333333333333333,
             "#9c179e"
            ],
            [
             0.4444444444444444,
             "#bd3786"
            ],
            [
             0.5555555555555556,
             "#d8576b"
            ],
            [
             0.6666666666666666,
             "#ed7953"
            ],
            [
             0.7777777777777778,
             "#fb9f3a"
            ],
            [
             0.8888888888888888,
             "#fdca26"
            ],
            [
             1.0,
             "#f0f921"
            ]
           ],
           "diverging": [
            [
             0,
             "#8e0152"
            ],
            [
             0.1,
             "#c51b7d"
            ],
            [
             0.2,
             "#de77ae"
            ],
            [
             0.3,
             "#f1b6da"
            ],
            [
             0.4,
             "#fde0ef"
            ],
            [
             0.5,
             "#f7f7f7"
            ],
            [
             0.6,
             "#e6f5d0"
            ],
            [
             0.7,
             "#b8e186"
            ],
            [
             0.8,
             "#7fbc41"
            ],
            [
             0.9,
             "#4d9221"
            ],
            [
             1,
             "#276419"
            ]
           ]
          },
          "xaxis": {
           "gridcolor": "white",
           "linecolor": "white",
           "ticks": "",
           "title": {
            "standoff": 15
           },
           "zerolinecolor": "white",
           "automargin": true,
           "zerolinewidth": 2
          },
          "yaxis": {
           "gridcolor": "white",
           "linecolor": "white",
           "ticks": "",
           "title": {
            "standoff": 15
           },
           "zerolinecolor": "white",
           "automargin": true,
           "zerolinewidth": 2
          },
          "scene": {
           "xaxis": {
            "backgroundcolor": "#E5ECF6",
            "gridcolor": "white",
            "linecolor": "white",
            "showbackground": true,
            "ticks": "",
            "zerolinecolor": "white",
            "gridwidth": 2
           },
           "yaxis": {
            "backgroundcolor": "#E5ECF6",
            "gridcolor": "white",
            "linecolor": "white",
            "showbackground": true,
            "ticks": "",
            "zerolinecolor": "white",
            "gridwidth": 2
           },
           "zaxis": {
            "backgroundcolor": "#E5ECF6",
            "gridcolor": "white",
            "linecolor": "white",
            "showbackground": true,
            "ticks": "",
            "zerolinecolor": "white",
            "gridwidth": 2
           }
          },
          "shapedefaults": {
           "line": {
            "color": "#2a3f5f"
           }
          },
          "annotationdefaults": {
           "arrowcolor": "#2a3f5f",
           "arrowhead": 0,
           "arrowwidth": 1
          },
          "geo": {
           "bgcolor": "white",
           "landcolor": "#E5ECF6",
           "subunitcolor": "white",
           "showland": true,
           "showlakes": true,
           "lakecolor": "white"
          },
          "title": {
           "x": 0.05
          },
          "mapbox": {
           "style": "light"
          }
         }
        },
        "scene": {
         "domain": {
          "x": [
           0.0,
           0.45
          ],
          "y": [
           0.0,
           1.0
          ]
         },
         "xaxis": {
          "title": {
           "text": "Energy"
          }
         },
         "yaxis": {
          "title": {
           "text": "Danceability"
          }
         },
         "zaxis": {
          "title": {
           "text": "Popularity"
          }
         }
        },
        "xaxis": {
         "anchor": "y",
         "domain": [
          0.55,
          1.0
         ],
         "title": {
          "text": "Danceability"
         }
        },
        "yaxis": {
         "anchor": "x",
         "domain": [
          0.0,
          1.0
         ],
         "title": {
          "text": "Energy"
         }
        },
        "annotations": [
         {
          "font": {
           "size": 16
          },
          "showarrow": false,
          "text": "2",
          "x": 0.225,
          "xanchor": "center",
          "xref": "paper",
          "y": 1.0,
          "yanchor": "bottom",
          "yref": "paper"
         },
         {
          "font": {
           "size": 16
          },
          "showarrow": false,
          "text": "D",
          "x": 0.775,
          "xanchor": "center",
          "xref": "paper",
          "y": 1.0,
          "yanchor": "bottom",
          "yref": "paper"
         }
        ],
        "font": {
         "size": 12
        },
        "title": {
         "text": "Energy, Danceability, and Popularity Analysis"
        },
        "showlegend": false,
        "width": 1200,
        "height": 600
       },
       "config": {
        "plotlyServerURL": "https://plot.ly"
       }
      }
     },
     "metadata": {},
     "output_type": "display_data"
    }
   ],
   "execution_count": 101
  },
  {
   "metadata": {},
   "cell_type": "markdown",
   "source": [
    "- The track with the highest popularity, “JUMP” by BLACKPINK (popularity 93), has danceability of 0.9188 and energy of 1.0, suggesting that extremely high values in these features may contribute to its success. \n",
    "- TWICE and BLACKPINK may cluster in the high danceability–energy region, while Dreamcatcher may lean toward high energy but lower danceability, reflecting stylistic differences.\n"
   ],
   "id": "e6dff581f8340870"
  },
  {
   "metadata": {},
   "cell_type": "code",
   "outputs": [],
   "execution_count": null,
   "source": "",
   "id": "4e6b92adea999b74"
  }
 ],
 "metadata": {
  "kernelspec": {
   "display_name": "Python 3",
   "language": "python",
   "name": "python3"
  },
  "language_info": {
   "codemirror_mode": {
    "name": "ipython",
    "version": 2
   },
   "file_extension": ".py",
   "mimetype": "text/x-python",
   "name": "python",
   "nbconvert_exporter": "python",
   "pygments_lexer": "ipython2",
   "version": "2.7.6"
  }
 },
 "nbformat": 4,
 "nbformat_minor": 5
}
